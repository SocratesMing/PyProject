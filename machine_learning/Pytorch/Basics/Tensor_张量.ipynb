{
 "cells": [
  {
   "metadata": {},
   "cell_type": "markdown",
   "source": "# 创建张量 tensor",
   "id": "4b6c28bb9833318b"
  },
  {
   "cell_type": "code",
   "id": "257c5c79ca594b7c",
   "metadata": {
    "ExecuteTime": {
     "end_time": "2025-06-26T05:59:09.199799Z",
     "start_time": "2025-06-26T05:59:05.848181Z"
    }
   },
   "source": [
    "\n",
    "import numpy as np\n",
    "import torch\n",
    "\n",
    "data = [[1, 2], [3, 4]]\n",
    "x_data = torch.tensor(data)\n",
    "x_data"
   ],
   "outputs": [
    {
     "ename": "ValueError",
     "evalue": "Line 1: Not a Matrix Market file. Missing banner.",
     "output_type": "error",
     "traceback": [
      "\u001B[31m---------------------------------------------------------------------------\u001B[39m",
      "\u001B[31mValueError\u001B[39m                                Traceback (most recent call last)",
      "\u001B[36mCell\u001B[39m\u001B[36m \u001B[39m\u001B[32mIn[2]\u001B[39m\u001B[32m, line 3\u001B[39m\n\u001B[32m      1\u001B[39m \u001B[38;5;28;01mimport\u001B[39;00m\u001B[38;5;250m \u001B[39m\u001B[34;01mnumpy\u001B[39;00m\u001B[38;5;250m \u001B[39m\u001B[38;5;28;01mas\u001B[39;00m\u001B[38;5;250m \u001B[39m\u001B[34;01mnp\u001B[39;00m\n\u001B[32m      2\u001B[39m \u001B[38;5;28;01mimport\u001B[39;00m\u001B[38;5;250m \u001B[39m\u001B[34;01mtorch\u001B[39;00m\n\u001B[32m----> \u001B[39m\u001B[32m3\u001B[39m \u001B[38;5;28;01mfrom\u001B[39;00m\u001B[38;5;250m \u001B[39m\u001B[34;01mstatsmodels\u001B[39;00m\u001B[34;01m.\u001B[39;00m\u001B[34;01msandbox\u001B[39;00m\u001B[34;01m.\u001B[39;00m\u001B[34;01mmle\u001B[39;00m\u001B[38;5;250m \u001B[39m\u001B[38;5;28;01mimport\u001B[39;00m grad_calls\n\u001B[32m      5\u001B[39m data = [[\u001B[32m1\u001B[39m, \u001B[32m2\u001B[39m], [\u001B[32m3\u001B[39m, \u001B[32m4\u001B[39m]]\n\u001B[32m      6\u001B[39m x_data = torch.tensor(data)\n",
      "\u001B[36mFile \u001B[39m\u001B[32mD:\\Code\\Python\\PyProject\\.venv\\Lib\\site-packages\\statsmodels\\sandbox\\mle.py:31\u001B[39m\n\u001B[32m     27\u001B[39m     \u001B[38;5;66;03m#print \"Rpp: \", result\u001B[39;00m\n\u001B[32m     28\u001B[39m     \u001B[38;5;28;01mreturn\u001B[39;00m result\n\u001B[32m---> \u001B[39m\u001B[32m31\u001B[39m A = \u001B[43mio\u001B[49m\u001B[43m.\u001B[49m\u001B[43mmmread\u001B[49m\u001B[43m(\u001B[49m\u001B[33;43m'\u001B[39;49m\u001B[33;43mnos4.mtx\u001B[39;49m\u001B[33;43m'\u001B[39;49m\u001B[43m)\u001B[49m \u001B[38;5;66;03m# clustered eigenvalues\u001B[39;00m\n\u001B[32m     32\u001B[39m \u001B[38;5;66;03m#B = io.mmread('bcsstm02.mtx.gz')\u001B[39;00m\n\u001B[32m     33\u001B[39m \u001B[38;5;66;03m#A = io.mmread('bcsstk06.mtx.gz') # clustered eigenvalues\u001B[39;00m\n\u001B[32m     34\u001B[39m \u001B[38;5;66;03m#B = io.mmread('bcsstm06.mtx.gz')\u001B[39;00m\n\u001B[32m     35\u001B[39m n = A.shape[\u001B[32m0\u001B[39m]\n",
      "\u001B[36mFile \u001B[39m\u001B[32mD:\\Code\\Python\\PyProject\\.venv\\Lib\\site-packages\\scipy\\io\\_fast_matrix_market\\__init__.py:354\u001B[39m, in \u001B[36mmmread\u001B[39m\u001B[34m(source)\u001B[39m\n\u001B[32m    294\u001B[39m \u001B[38;5;28;01mdef\u001B[39;00m\u001B[38;5;250m \u001B[39m\u001B[34mmmread\u001B[39m(source):\n\u001B[32m    295\u001B[39m \u001B[38;5;250m    \u001B[39m\u001B[33;03m\"\"\"\u001B[39;00m\n\u001B[32m    296\u001B[39m \u001B[33;03m    Reads the contents of a Matrix Market file-like 'source' into a matrix.\u001B[39;00m\n\u001B[32m    297\u001B[39m \n\u001B[32m   (...)\u001B[39m\u001B[32m    352\u001B[39m \n\u001B[32m    353\u001B[39m \u001B[33;03m    \"\"\"\u001B[39;00m\n\u001B[32m--> \u001B[39m\u001B[32m354\u001B[39m     cursor, stream_to_close = \u001B[43m_get_read_cursor\u001B[49m\u001B[43m(\u001B[49m\u001B[43msource\u001B[49m\u001B[43m)\u001B[49m\n\u001B[32m    356\u001B[39m     \u001B[38;5;28;01mif\u001B[39;00m cursor.header.format == \u001B[33m\"\u001B[39m\u001B[33marray\u001B[39m\u001B[33m\"\u001B[39m:\n\u001B[32m    357\u001B[39m         mat = _read_body_array(cursor)\n",
      "\u001B[36mFile \u001B[39m\u001B[32mD:\\Code\\Python\\PyProject\\.venv\\Lib\\site-packages\\scipy\\io\\_fast_matrix_market\\__init__.py:197\u001B[39m, in \u001B[36m_get_read_cursor\u001B[39m\u001B[34m(source, parallelism)\u001B[39m\n\u001B[32m    195\u001B[39m         ret_stream_to_close = source\n\u001B[32m    196\u001B[39m     \u001B[38;5;28;01melse\u001B[39;00m:\n\u001B[32m--> \u001B[39m\u001B[32m197\u001B[39m         \u001B[38;5;28;01mreturn\u001B[39;00m \u001B[43m_fmm_core\u001B[49m\u001B[43m.\u001B[49m\u001B[43mopen_read_file\u001B[49m\u001B[43m(\u001B[49m\u001B[43mpath\u001B[49m\u001B[43m,\u001B[49m\u001B[43m \u001B[49m\u001B[43mparallelism\u001B[49m\u001B[43m)\u001B[49m, ret_stream_to_close\n\u001B[32m    199\u001B[39m \u001B[38;5;66;03m# Stream object.\u001B[39;00m\n\u001B[32m    200\u001B[39m \u001B[38;5;28;01mif\u001B[39;00m \u001B[38;5;28mhasattr\u001B[39m(source, \u001B[33m\"\u001B[39m\u001B[33mread\u001B[39m\u001B[33m\"\u001B[39m):\n",
      "\u001B[31mValueError\u001B[39m: Line 1: Not a Matrix Market file. Missing banner."
     ]
    }
   ],
   "execution_count": 2
  },
  {
   "metadata": {
    "ExecuteTime": {
     "end_time": "2025-06-26T05:59:09.204121700Z",
     "start_time": "2025-06-24T11:19:11.111295Z"
    }
   },
   "cell_type": "code",
   "source": [
    "\n",
    "######################################################################\n",
    "# **From a NumPy array**\n",
    "#\n",
    "# Tensors can be created from NumPy arrays (and vice versa - see :ref:`bridge-to-np-label`).\n",
    "np_array = np.array(data)\n",
    "x_np = torch.from_numpy(np_array)\n",
    "print(x_np)"
   ],
   "id": "initial_id",
   "outputs": [
    {
     "name": "stdout",
     "output_type": "stream",
     "text": [
      "tensor([[1, 2],\n",
      "        [3, 4]], dtype=torch.int32)\n"
     ]
    }
   ],
   "execution_count": 24
  },
  {
   "metadata": {
    "ExecuteTime": {
     "end_time": "2025-06-26T05:59:09.205589100Z",
     "start_time": "2025-06-24T11:19:38.680743Z"
    }
   },
   "cell_type": "code",
   "source": [
    "x_ones = torch.ones_like(x_data)  # retains the properties of x_data\n",
    "print(f\"Ones Tensor: \\n {x_ones} \\n\")\n",
    "\n",
    "x_rand = torch.rand_like(x_data, dtype=torch.float)  # overrides the datatype of x_data\n",
    "print(f\"Random Tensor: \\n {x_rand} \\n\")\n"
   ],
   "id": "9791113a2b57355",
   "outputs": [
    {
     "name": "stdout",
     "output_type": "stream",
     "text": [
      "Ones Tensor: \n",
      " tensor([[1, 1],\n",
      "        [1, 1]]) \n",
      "\n",
      "Random Tensor: \n",
      " tensor([[0.7861, 0.8576],\n",
      "        [0.5587, 0.6428]]) \n",
      "\n",
      "Random Tensor: \n",
      " tensor([[1, 2],\n",
      "        [3, 4]]) \n",
      "\n"
     ]
    }
   ],
   "execution_count": 26
  },
  {
   "metadata": {},
   "cell_type": "markdown",
   "source": "",
   "id": "1dc4c8c579f039ca"
  },
  {
   "metadata": {
    "ExecuteTime": {
     "end_time": "2025-06-26T05:59:09.205589100Z",
     "start_time": "2025-06-24T07:18:43.515779Z"
    }
   },
   "cell_type": "code",
   "source": [
    "shape = (2, 3,)\n",
    "rand_tensor = torch.rand(shape)\n",
    "ones_tensor = torch.ones(shape)\n",
    "zeros_tensor = torch.zeros(shape)\n",
    "\n",
    "print(f\"Random Tensor: \\n {rand_tensor} \\n\")\n",
    "print(f\"Ones Tensor: \\n {ones_tensor} \\n\")\n",
    "print(f\"Zeros Tensor: \\n {zeros_tensor}\")"
   ],
   "id": "668e5e08463e4b8a",
   "outputs": [
    {
     "name": "stdout",
     "output_type": "stream",
     "text": [
      "Random Tensor: \n",
      " tensor([[0.1011, 0.7708, 0.8580],\n",
      "        [0.5389, 0.2374, 0.1538]]) \n",
      "\n",
      "Ones Tensor: \n",
      " tensor([[1., 1., 1.],\n",
      "        [1., 1., 1.]]) \n",
      "\n",
      "Zeros Tensor: \n",
      " tensor([[0., 0., 0.],\n",
      "        [0., 0., 0.]])\n"
     ]
    }
   ],
   "execution_count": 8
  },
  {
   "metadata": {
    "ExecuteTime": {
     "end_time": "2025-06-26T05:59:09.206588200Z",
     "start_time": "2025-06-24T07:20:55.950499Z"
    }
   },
   "cell_type": "code",
   "source": [
    "tensor = torch.ones(4, 4)\n",
    "print(f\"第一行: {tensor[0]}\")\n",
    "print(f\"第一列: {tensor[:, 0]}\")\n",
    "print(f\"最后一列: {tensor[..., -1]}\")\n",
    "tensor[:, 1] = 0  #第二列等于0\n",
    "print(tensor)\n",
    "\n",
    "######################################################################\n",
    "# 拼接  dim表示维度，如果为0，表示行会改变，如果为1表示列会改变\n",
    "t1 = torch.cat([tensor, tensor, tensor], dim=1)\n",
    "print(t1)\n",
    "\n",
    "t1 = torch.cat([tensor, tensor, tensor], dim=0)\n",
    "print(t1)"
   ],
   "id": "842486aa0214df16",
   "outputs": [
    {
     "name": "stdout",
     "output_type": "stream",
     "text": [
      "第一行: tensor([1., 1., 1., 1.])\n",
      "第一列: tensor([1., 1., 1., 1.])\n",
      "最后一列: tensor([1., 1., 1., 1.])\n",
      "tensor([[1., 0., 1., 1.],\n",
      "        [1., 0., 1., 1.],\n",
      "        [1., 0., 1., 1.],\n",
      "        [1., 0., 1., 1.]])\n",
      "tensor([[1., 0., 1., 1., 1., 0., 1., 1., 1., 0., 1., 1.],\n",
      "        [1., 0., 1., 1., 1., 0., 1., 1., 1., 0., 1., 1.],\n",
      "        [1., 0., 1., 1., 1., 0., 1., 1., 1., 0., 1., 1.],\n",
      "        [1., 0., 1., 1., 1., 0., 1., 1., 1., 0., 1., 1.]])\n",
      "tensor([[1., 0., 1., 1.],\n",
      "        [1., 0., 1., 1.],\n",
      "        [1., 0., 1., 1.],\n",
      "        [1., 0., 1., 1.],\n",
      "        [1., 0., 1., 1.],\n",
      "        [1., 0., 1., 1.],\n",
      "        [1., 0., 1., 1.],\n",
      "        [1., 0., 1., 1.],\n",
      "        [1., 0., 1., 1.],\n",
      "        [1., 0., 1., 1.],\n",
      "        [1., 0., 1., 1.],\n",
      "        [1., 0., 1., 1.]])\n"
     ]
    }
   ],
   "execution_count": 11
  },
  {
   "metadata": {},
   "cell_type": "markdown",
   "source": "# Tensor 相乘",
   "id": "2d86a674ce8e2248"
  },
  {
   "metadata": {
    "ExecuteTime": {
     "end_time": "2025-06-26T05:59:09.206588200Z",
     "start_time": "2025-06-24T11:28:44.264076Z"
    }
   },
   "cell_type": "code",
   "source": [
    "tensor1 = torch.randn(3, 4)\n",
    "tensor2 = torch.randn(4)\n",
    "print(tensor1)\n",
    "print(tensor2)\n",
    "print(torch.matmul(tensor1, tensor2))\n"
   ],
   "id": "38ad2991dc29c6f0",
   "outputs": [
    {
     "name": "stdout",
     "output_type": "stream",
     "text": [
      "tensor([[ 0.2977,  1.4110, -0.7603,  0.2307],\n",
      "        [-0.4320,  1.8075,  0.2994,  0.1867],\n",
      "        [ 0.6009,  1.9932,  2.0223,  0.5226]])\n",
      "tensor([-0.6514, -2.3982, -0.2400, -0.1177])\n",
      "tensor([-3.4224, -4.1472, -5.7184])\n"
     ]
    }
   ],
   "execution_count": 37
  },
  {
   "metadata": {
    "ExecuteTime": {
     "end_time": "2025-06-26T05:59:09.206588200Z",
     "start_time": "2025-06-24T11:29:12.026007Z"
    }
   },
   "cell_type": "code",
   "source": [
    "\n",
    "# 对应位置元素相乘\n",
    "tensor3 = torch.randn(2, 2)\n",
    "tensor4 = torch.randn(2, 2)\n",
    "print(tensor3)\n",
    "print(tensor4)\n",
    "print(\"mul \", tensor3.mul(tensor4))\n",
    "print(\"* \", tensor3 * tensor4)"
   ],
   "id": "5b4e59f9a876aae",
   "outputs": [
    {
     "name": "stdout",
     "output_type": "stream",
     "text": [
      "tensor([[-0.3071, -0.3253],\n",
      "        [-1.3880, -0.1785]])\n",
      "tensor([[-0.2701, -0.7858],\n",
      "        [ 1.1426, -0.1985]])\n",
      "mul  tensor([[ 0.0830,  0.2556],\n",
      "        [-1.5859,  0.0354]])\n",
      "*  tensor([[ 0.0830,  0.2556],\n",
      "        [-1.5859,  0.0354]])\n"
     ]
    }
   ],
   "execution_count": 39
  },
  {
   "metadata": {
    "ExecuteTime": {
     "end_time": "2025-06-26T05:59:09.207740100Z",
     "start_time": "2025-06-24T08:24:28.254906Z"
    }
   },
   "cell_type": "code",
   "source": [
    "x = torch.tensor(2.0, requires_grad=True)\n",
    "y = x ** 2 + 3 * x  # 构建计算图，记录 y = x² + 3x\n",
    "y.backward()\n",
    "print(x.grad)"
   ],
   "id": "f95618002210a3c9",
   "outputs": [
    {
     "name": "stdout",
     "output_type": "stream",
     "text": [
      "tensor(7.)\n"
     ]
    }
   ],
   "execution_count": 23
  },
  {
   "metadata": {},
   "cell_type": "markdown",
   "source": [
    "# item\n",
    "\n",
    "将此张量的值作为标准 Python 数字返回。这只有效 对于具有一个元素的张量"
   ],
   "id": "3a2d2524146eb8af"
  },
  {
   "metadata": {
    "ExecuteTime": {
     "end_time": "2025-06-26T05:59:12.490393Z",
     "start_time": "2025-06-26T05:59:12.482442Z"
    }
   },
   "cell_type": "code",
   "source": [
    "x = torch.tensor([1.0])\n",
    "x.item()"
   ],
   "id": "fe2913f333fcc487",
   "outputs": [
    {
     "data": {
      "text/plain": [
       "1.0"
      ]
     },
     "execution_count": 3,
     "metadata": {},
     "output_type": "execute_result"
    }
   ],
   "execution_count": 3
  },
  {
   "metadata": {},
   "cell_type": "markdown",
   "source": [
    "# backward\n",
    "\n",
    "\n",
    "计算给定张量相对于图的叶子节点的梯度之和\n",
    "\n",
    " tensor参数 requires_grad=True"
   ],
   "id": "9d2261653fc2e308"
  },
  {
   "metadata": {
    "ExecuteTime": {
     "end_time": "2025-06-26T06:10:20.933542Z",
     "start_time": "2025-06-26T06:10:20.925426Z"
    }
   },
   "cell_type": "code",
   "source": [
    "\n",
    "x = torch.tensor([[1., -1.], [1., 1.]], requires_grad=True)\n",
    "out = (x.pow(2) + x * 3 + 5).sum()\n",
    "print(out.item())\n",
    "out.backward()\n",
    "x.grad"
   ],
   "id": "c0eb1c721c79e45b",
   "outputs": [
    {
     "name": "stdout",
     "output_type": "stream",
     "text": [
      "30.0\n"
     ]
    },
    {
     "data": {
      "text/plain": [
       "tensor([[5., 1.],\n",
       "        [5., 5.]])"
      ]
     },
     "execution_count": 8,
     "metadata": {},
     "output_type": "execute_result"
    }
   ],
   "execution_count": 8
  }
 ],
 "metadata": {
  "kernelspec": {
   "display_name": "Python 3",
   "language": "python",
   "name": "python3"
  },
  "language_info": {
   "codemirror_mode": {
    "name": "ipython",
    "version": 2
   },
   "file_extension": ".py",
   "mimetype": "text/x-python",
   "name": "python",
   "nbconvert_exporter": "python",
   "pygments_lexer": "ipython2",
   "version": "2.7.6"
  }
 },
 "nbformat": 4,
 "nbformat_minor": 5
}
