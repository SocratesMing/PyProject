{
 "cells": [
  {
   "metadata": {},
   "cell_type": "markdown",
   "source": "# 创建张量 tensor",
   "id": "4b6c28bb9833318b"
  },
  {
   "cell_type": "code",
   "id": "257c5c79ca594b7c",
   "metadata": {
    "ExecuteTime": {
     "end_time": "2025-06-24T07:17:14.473453Z",
     "start_time": "2025-06-24T07:17:14.468111Z"
    }
   },
   "source": [
    "\n",
    "import numpy as np\n",
    "import torch\n",
    "\n",
    "data = [[1, 2], [3, 4]]\n",
    "x_data = torch.tensor(data)\n",
    "x_data"
   ],
   "outputs": [
    {
     "data": {
      "text/plain": [
       "tensor([[1, 2],\n",
       "        [3, 4]])"
      ]
     },
     "execution_count": 4,
     "metadata": {},
     "output_type": "execute_result"
    }
   ],
   "execution_count": 4
  },
  {
   "metadata": {
    "ExecuteTime": {
     "end_time": "2025-06-24T11:19:11.127293Z",
     "start_time": "2025-06-24T11:19:11.111295Z"
    }
   },
   "cell_type": "code",
   "source": [
    "\n",
    "######################################################################\n",
    "# **From a NumPy array**\n",
    "#\n",
    "# Tensors can be created from NumPy arrays (and vice versa - see :ref:`bridge-to-np-label`).\n",
    "np_array = np.array(data)\n",
    "x_np = torch.from_numpy(np_array)\n",
    "print(x_np)"
   ],
   "id": "initial_id",
   "outputs": [
    {
     "name": "stdout",
     "output_type": "stream",
     "text": [
      "tensor([[1, 2],\n",
      "        [3, 4]], dtype=torch.int32)\n"
     ]
    }
   ],
   "execution_count": 24
  },
  {
   "metadata": {
    "ExecuteTime": {
     "end_time": "2025-06-24T11:19:38.687515Z",
     "start_time": "2025-06-24T11:19:38.680743Z"
    }
   },
   "cell_type": "code",
   "source": [
    "x_ones = torch.ones_like(x_data)  # retains the properties of x_data\n",
    "print(f\"Ones Tensor: \\n {x_ones} \\n\")\n",
    "\n",
    "x_rand = torch.rand_like(x_data, dtype=torch.float)  # overrides the datatype of x_data\n",
    "print(f\"Random Tensor: \\n {x_rand} \\n\")\n"
   ],
   "id": "9791113a2b57355",
   "outputs": [
    {
     "name": "stdout",
     "output_type": "stream",
     "text": [
      "Ones Tensor: \n",
      " tensor([[1, 1],\n",
      "        [1, 1]]) \n",
      "\n",
      "Random Tensor: \n",
      " tensor([[0.7861, 0.8576],\n",
      "        [0.5587, 0.6428]]) \n",
      "\n",
      "Random Tensor: \n",
      " tensor([[1, 2],\n",
      "        [3, 4]]) \n",
      "\n"
     ]
    }
   ],
   "execution_count": 26
  },
  {
   "metadata": {},
   "cell_type": "markdown",
   "source": "",
   "id": "1dc4c8c579f039ca"
  },
  {
   "metadata": {
    "ExecuteTime": {
     "end_time": "2025-06-24T07:18:43.528731Z",
     "start_time": "2025-06-24T07:18:43.515779Z"
    }
   },
   "cell_type": "code",
   "source": [
    "shape = (2, 3,)\n",
    "rand_tensor = torch.rand(shape)\n",
    "ones_tensor = torch.ones(shape)\n",
    "zeros_tensor = torch.zeros(shape)\n",
    "\n",
    "print(f\"Random Tensor: \\n {rand_tensor} \\n\")\n",
    "print(f\"Ones Tensor: \\n {ones_tensor} \\n\")\n",
    "print(f\"Zeros Tensor: \\n {zeros_tensor}\")"
   ],
   "id": "668e5e08463e4b8a",
   "outputs": [
    {
     "name": "stdout",
     "output_type": "stream",
     "text": [
      "Random Tensor: \n",
      " tensor([[0.1011, 0.7708, 0.8580],\n",
      "        [0.5389, 0.2374, 0.1538]]) \n",
      "\n",
      "Ones Tensor: \n",
      " tensor([[1., 1., 1.],\n",
      "        [1., 1., 1.]]) \n",
      "\n",
      "Zeros Tensor: \n",
      " tensor([[0., 0., 0.],\n",
      "        [0., 0., 0.]])\n"
     ]
    }
   ],
   "execution_count": 8
  },
  {
   "metadata": {
    "ExecuteTime": {
     "end_time": "2025-06-24T07:20:55.957637Z",
     "start_time": "2025-06-24T07:20:55.950499Z"
    }
   },
   "cell_type": "code",
   "source": [
    "tensor = torch.ones(4, 4)\n",
    "print(f\"第一行: {tensor[0]}\")\n",
    "print(f\"第一列: {tensor[:, 0]}\")\n",
    "print(f\"最后一列: {tensor[..., -1]}\")\n",
    "tensor[:, 1] = 0  #第二列等于0\n",
    "print(tensor)\n",
    "\n",
    "######################################################################\n",
    "# 拼接  dim表示维度，如果为0，表示行会改变，如果为1表示列会改变\n",
    "t1 = torch.cat([tensor, tensor, tensor], dim=1)\n",
    "print(t1)\n",
    "\n",
    "t1 = torch.cat([tensor, tensor, tensor], dim=0)\n",
    "print(t1)"
   ],
   "id": "842486aa0214df16",
   "outputs": [
    {
     "name": "stdout",
     "output_type": "stream",
     "text": [
      "第一行: tensor([1., 1., 1., 1.])\n",
      "第一列: tensor([1., 1., 1., 1.])\n",
      "最后一列: tensor([1., 1., 1., 1.])\n",
      "tensor([[1., 0., 1., 1.],\n",
      "        [1., 0., 1., 1.],\n",
      "        [1., 0., 1., 1.],\n",
      "        [1., 0., 1., 1.]])\n",
      "tensor([[1., 0., 1., 1., 1., 0., 1., 1., 1., 0., 1., 1.],\n",
      "        [1., 0., 1., 1., 1., 0., 1., 1., 1., 0., 1., 1.],\n",
      "        [1., 0., 1., 1., 1., 0., 1., 1., 1., 0., 1., 1.],\n",
      "        [1., 0., 1., 1., 1., 0., 1., 1., 1., 0., 1., 1.]])\n",
      "tensor([[1., 0., 1., 1.],\n",
      "        [1., 0., 1., 1.],\n",
      "        [1., 0., 1., 1.],\n",
      "        [1., 0., 1., 1.],\n",
      "        [1., 0., 1., 1.],\n",
      "        [1., 0., 1., 1.],\n",
      "        [1., 0., 1., 1.],\n",
      "        [1., 0., 1., 1.],\n",
      "        [1., 0., 1., 1.],\n",
      "        [1., 0., 1., 1.],\n",
      "        [1., 0., 1., 1.],\n",
      "        [1., 0., 1., 1.]])\n"
     ]
    }
   ],
   "execution_count": 11
  },
  {
   "metadata": {},
   "cell_type": "markdown",
   "source": "# Tensor 相乘",
   "id": "2d86a674ce8e2248"
  },
  {
   "metadata": {
    "ExecuteTime": {
     "end_time": "2025-06-24T11:28:44.271185Z",
     "start_time": "2025-06-24T11:28:44.264076Z"
    }
   },
   "cell_type": "code",
   "source": [
    "tensor1 = torch.randn(3, 4)\n",
    "tensor2 = torch.randn(4)\n",
    "print(tensor1)\n",
    "print(tensor2)\n",
    "print(torch.matmul(tensor1, tensor2))\n"
   ],
   "id": "38ad2991dc29c6f0",
   "outputs": [
    {
     "name": "stdout",
     "output_type": "stream",
     "text": [
      "tensor([[ 0.2977,  1.4110, -0.7603,  0.2307],\n",
      "        [-0.4320,  1.8075,  0.2994,  0.1867],\n",
      "        [ 0.6009,  1.9932,  2.0223,  0.5226]])\n",
      "tensor([-0.6514, -2.3982, -0.2400, -0.1177])\n",
      "tensor([-3.4224, -4.1472, -5.7184])\n"
     ]
    }
   ],
   "execution_count": 37
  },
  {
   "metadata": {
    "ExecuteTime": {
     "end_time": "2025-06-24T11:29:12.033645Z",
     "start_time": "2025-06-24T11:29:12.026007Z"
    }
   },
   "cell_type": "code",
   "source": [
    "\n",
    "# 对应位置元素相乘\n",
    "tensor3 = torch.randn(2, 2)\n",
    "tensor4 = torch.randn(2, 2)\n",
    "print(tensor3)\n",
    "print(tensor4)\n",
    "print(\"mul \", tensor3.mul(tensor4))\n",
    "print(\"* \", tensor3 * tensor4)"
   ],
   "id": "5b4e59f9a876aae",
   "outputs": [
    {
     "name": "stdout",
     "output_type": "stream",
     "text": [
      "tensor([[-0.3071, -0.3253],\n",
      "        [-1.3880, -0.1785]])\n",
      "tensor([[-0.2701, -0.7858],\n",
      "        [ 1.1426, -0.1985]])\n",
      "mul  tensor([[ 0.0830,  0.2556],\n",
      "        [-1.5859,  0.0354]])\n",
      "*  tensor([[ 0.0830,  0.2556],\n",
      "        [-1.5859,  0.0354]])\n"
     ]
    }
   ],
   "execution_count": 39
  },
  {
   "metadata": {
    "ExecuteTime": {
     "end_time": "2025-06-24T08:24:28.260340Z",
     "start_time": "2025-06-24T08:24:28.254906Z"
    }
   },
   "cell_type": "code",
   "source": [
    "x = torch.tensor(2.0, requires_grad=True)\n",
    "y = x ** 2 + 3 * x  # 构建计算图，记录 y = x² + 3x\n",
    "y.backward()\n",
    "print(x.grad)"
   ],
   "id": "f95618002210a3c9",
   "outputs": [
    {
     "name": "stdout",
     "output_type": "stream",
     "text": [
      "tensor(7.)\n"
     ]
    }
   ],
   "execution_count": 23
  },
  {
   "metadata": {},
   "cell_type": "code",
   "outputs": [],
   "execution_count": null,
   "source": "",
   "id": "c0eb1c721c79e45b"
  }
 ],
 "metadata": {
  "kernelspec": {
   "display_name": "Python 3",
   "language": "python",
   "name": "python3"
  },
  "language_info": {
   "codemirror_mode": {
    "name": "ipython",
    "version": 2
   },
   "file_extension": ".py",
   "mimetype": "text/x-python",
   "name": "python",
   "nbconvert_exporter": "python",
   "pygments_lexer": "ipython2",
   "version": "2.7.6"
  }
 },
 "nbformat": 4,
 "nbformat_minor": 5
}
