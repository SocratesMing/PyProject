{
 "cells": [
  {
   "metadata": {},
   "cell_type": "markdown",
   "source": [
    "# 优化模型参数\n",
    "\n",
    "现在我们有了模型和数据，是时候通过优化参数训练、验证和测试我们的模型了。\n",
    "训练模型是一个迭代的过程；在每次迭代中，模型对输出进行预测，计算其预测的误差（损失），收集误差相对于其参数的导数（如我们在上一节所看到的），并使用梯度下降法优化这些参数"
   ],
   "id": "a8828f9040dcc3ac"
  },
  {
   "metadata": {},
   "cell_type": "markdown",
   "source": "",
   "id": "a3e585575ab486d2"
  },
  {
   "metadata": {
    "ExecuteTime": {
     "end_time": "2025-06-24T11:12:28.047763Z",
     "start_time": "2025-06-24T11:12:27.957986Z"
    }
   },
   "cell_type": "code",
   "source": [
    "import torch\n",
    "from torch import nn\n",
    "from torch.utils.data import DataLoader\n",
    "from torchvision import datasets\n",
    "from torchvision.transforms import ToTensor\n",
    "\n",
    "training_data = datasets.FashionMNIST(\n",
    "    root=\"data\",\n",
    "    train=True,\n",
    "    download=True,\n",
    "    transform=ToTensor()\n",
    ")\n",
    "\n",
    "test_data = datasets.FashionMNIST(\n",
    "    root=\"data\",\n",
    "    train=False,\n",
    "    download=True,\n",
    "    transform=ToTensor()\n",
    ")\n",
    "\n",
    "train_dataloader = DataLoader(training_data, batch_size=64)\n",
    "test_dataloader = DataLoader(test_data, batch_size=64)\n",
    "\n",
    "class NeuralNetwork(nn.Module):\n",
    "    def __init__(self):\n",
    "        super().__init__()\n",
    "        self.flatten = nn.Flatten()\n",
    "        self.linear_relu_stack = nn.Sequential(\n",
    "            nn.Linear(28*28, 512),\n",
    "            nn.ReLU(),\n",
    "            nn.Linear(512, 512),\n",
    "            nn.ReLU(),\n",
    "            nn.Linear(512, 10),\n",
    "        )\n",
    "\n",
    "    def forward(self, x):\n",
    "        x = self.flatten(x)\n",
    "        logits = self.linear_relu_stack(x)\n",
    "        return logits\n",
    "\n",
    "model = NeuralNetwork()"
   ],
   "id": "5cbf270b901711c7",
   "outputs": [],
   "execution_count": 3
  },
  {
   "metadata": {},
   "cell_type": "markdown",
   "source": [
    "# 超参数\n",
    "超参数是可调的参数，允许您控制模型优化过程。不同的超参数值可以影响模型训练和收敛速度（了解更多关于超参数调整的信息）。\n",
    "我们为训练定义以下超参数：\n",
    "- Number of Epochs - 对数据集迭代的次数。\n",
    "- Batch Size - 在更新参数之前，通过网络传播的数据样本数量。\n",
    "- Learning Rate - 每个批次/轮次更新模型参数的幅度。较小的值会导致学习速度较慢，而较大的值可能在训练过程中导致不可预测的行为。"
   ],
   "id": "5c1678ef78720503"
  },
  {
   "metadata": {
    "ExecuteTime": {
     "end_time": "2025-06-24T11:12:28.075553Z",
     "start_time": "2025-06-24T11:12:28.070529Z"
    }
   },
   "cell_type": "code",
   "source": [
    "learning_rate = 1e-3\n",
    "batch_size = 64\n",
    "epochs = 5"
   ],
   "id": "dc41b06052c4fdc6",
   "outputs": [],
   "execution_count": 4
  },
  {
   "metadata": {},
   "cell_type": "markdown",
   "source": [
    "# 优化循环\n",
    "一旦我们设置了超参数，我们就可以使用优化循环来训练和优化我们的模型。优化循环的每次迭代称为一个epoch。\n",
    "每个epoch由两个主要部分组成：\n",
    "- The Train Loop - 遍历训练数据集，尽量收敛到最佳参数。\n",
    "- The Validation/Test Loop - 遍历测试数据集，以检查模型性能是否在改善。\n",
    "\n",
    "让我们简要熟悉训练循环中使用的一些概念。跳到这里查看优化循环的完整实现。"
   ],
   "id": "f2d81cbab18bde7c"
  },
  {
   "metadata": {},
   "cell_type": "markdown",
   "source": [
    "# 损失函数\n",
    "当给定一些训练数据时，我们的未训练网络可能不会给出正确的答案。\n",
    "\n",
    "损失函数衡量获得结果与目标值之间的不相似程度，而我们希望在训练过程中最小化的正是损失函数。\n",
    "\n",
    "为了计算损失，我们使用给定数据样本的输入进行预测，并将其与真实数据标签值进行比较。\n",
    "\n",
    "常见的损失函数包括用于回归任务的 nn.MSELoss（均方误差）和用于分类的 nn.NLLLoss（负对数似然）。\n",
    "\n",
    "nn.CrossEntropyLoss 结合了 nn.LogSoftmax 和 nn.NLLLoss。我们将模型的输出 logits 传递给 nn.CrossEntropyLoss，它会对 logits 进行归一化并计算预测误差。"
   ],
   "id": "a9a15e2a88519f40"
  },
  {
   "metadata": {
    "ExecuteTime": {
     "end_time": "2025-06-24T11:12:28.105170Z",
     "start_time": "2025-06-24T11:12:28.099471Z"
    }
   },
   "cell_type": "code",
   "source": [
    "# Initialize the loss function\n",
    "loss_fn = nn.CrossEntropyLoss()"
   ],
   "id": "c242421287396b8d",
   "outputs": [],
   "execution_count": 5
  },
  {
   "metadata": {},
   "cell_type": "markdown",
   "source": [
    "# 优化\n",
    "优化是调整模型参数以减少每个训练步骤中的模型误差的过程。优化算法定义了如何执行这个过程（在这个例子中我们使用随机梯度下降）。\n",
    "\n",
    "所有的优化逻辑都封装在优化器对象中。在这里，我们使用SGD优化器；\n",
    "\n",
    "此外，PyTorch中还有许多不同的优化器，如ADAM和RMSProp，它们对不同类型的模型和数据表现更好。我们通过注册需要训练的模型参数并传入学习率超参数来初始化优化器。"
   ],
   "id": "5e59ced926d66e16"
  },
  {
   "metadata": {
    "ExecuteTime": {
     "end_time": "2025-06-24T11:12:28.135209Z",
     "start_time": "2025-06-24T11:12:28.125286Z"
    }
   },
   "cell_type": "code",
   "source": "optimizer = torch.optim.SGD(model.parameters(), lr=learning_rate)",
   "id": "cf930d3c4976f541",
   "outputs": [],
   "execution_count": 6
  },
  {
   "metadata": {},
   "cell_type": "markdown",
   "source": [
    "在训练循环中，优化分三个步骤进行：\n",
    "- 调用 optimizer.zero_grad（） 重置模型参数的梯度。默认情况下，梯度累加;为了防止重复计数，我们在每次迭代时都将它们显式归零。\n",
    "- 通过调用 loss.backward（） 反向传播预测损失。PyTorch 会根据每个参数来存储损失的梯度。\n",
    "- 一旦我们有了梯度，我们调用 optimizer.step（） 来根据向后传递中收集的梯度来调整参数。"
   ],
   "id": "dd14c2a95844bb85"
  },
  {
   "metadata": {},
   "cell_type": "markdown",
   "source": [
    "# 完整实现\n",
    "\n",
    "我们定义了循环访问优化代码的 train_loop，以及根据测试数据评估模型性能的 test_loop。"
   ],
   "id": "adb3b9a0fec8c805"
  },
  {
   "metadata": {
    "ExecuteTime": {
     "end_time": "2025-06-24T11:12:28.167509Z",
     "start_time": "2025-06-24T11:12:28.157526Z"
    }
   },
   "cell_type": "code",
   "source": [
    "def train_loop(dataloader, model, loss_fn, optimizer):\n",
    "    size = len(dataloader.dataset)\n",
    "    # Set the model to training mode - important for batch normalization and dropout layers\n",
    "    # Unnecessary in this situation but added for best practices\n",
    "    model.train()\n",
    "    for batch, (X, y) in enumerate(dataloader):\n",
    "        # 计算预测值和损失函数\n",
    "        pred = model(X)\n",
    "        loss = loss_fn(pred, y)\n",
    "\n",
    "        # 反向传播\n",
    "        loss.backward()\n",
    "        optimizer.step()\n",
    "        optimizer.zero_grad()\n",
    "\n",
    "        if batch % 100 == 0:\n",
    "            loss, current = loss.item(), batch * batch_size + len(X)\n",
    "            print(f\"loss: {loss:>7f}  [{current:>5d}/{size:>5d}]\")\n",
    "\n",
    "\n",
    "def test_loop(dataloader, model, loss_fn):\n",
    "    # 设置模型为评估模式 - important for batch normalization and dropout layers\n",
    "    # Unnecessary in this situation but added for best practices\n",
    "    model.eval()\n",
    "    size = len(dataloader.dataset)\n",
    "    num_batches = len(dataloader)\n",
    "    test_loss, correct = 0, 0\n",
    "\n",
    "    # Evaluating the model with torch.no_grad() ensures that no gradients are computed during test mode\n",
    "    # also serves to reduce unnecessary gradient computations and memory usage for tensors with requires_grad=True\n",
    "    with torch.no_grad():\n",
    "        for X, y in dataloader:\n",
    "            pred = model(X)\n",
    "            test_loss += loss_fn(pred, y).item()\n",
    "            correct += (pred.argmax(1) == y).type(torch.float).sum().item()\n",
    "\n",
    "    test_loss /= num_batches\n",
    "    correct /= size\n",
    "    print(f\"Test Error: \\n Accuracy: {(100*correct):>0.1f}%, Avg loss: {test_loss:>8f} \\n\")"
   ],
   "id": "2aa470f705eb290d",
   "outputs": [],
   "execution_count": 7
  },
  {
   "metadata": {},
   "cell_type": "markdown",
   "source": [
    "我们初始化 loss function 和 optimizer，并将其传递给 train_loop 和 test_loop。\n",
    "\n",
    "随意增加 epoch 的数量来跟踪模型的改进性能。"
   ],
   "id": "cced28ac28bf69fc"
  },
  {
   "metadata": {
    "ExecuteTime": {
     "end_time": "2025-06-24T11:13:44.897669Z",
     "start_time": "2025-06-24T11:12:28.185391Z"
    }
   },
   "cell_type": "code",
   "source": [
    "loss_fn = nn.CrossEntropyLoss()\n",
    "optimizer = torch.optim.SGD(model.parameters(), lr=learning_rate)\n",
    "\n",
    "epochs = 10\n",
    "for t in range(epochs):\n",
    "    print(f\"Epoch {t+1}\\n-------------------------------\")\n",
    "    train_loop(train_dataloader, model, loss_fn, optimizer)\n",
    "    test_loop(test_dataloader, model, loss_fn)\n",
    "print(\"Done!\")"
   ],
   "id": "3ecf59766fed11f4",
   "outputs": [
    {
     "name": "stdout",
     "output_type": "stream",
     "text": [
      "Epoch 1\n",
      "-------------------------------\n",
      "loss: 2.316443  [   64/60000]\n",
      "loss: 2.302399  [ 6464/60000]\n",
      "loss: 2.285570  [12864/60000]\n",
      "loss: 2.270591  [19264/60000]\n",
      "loss: 2.250449  [25664/60000]\n",
      "loss: 2.231316  [32064/60000]\n",
      "loss: 2.228149  [38464/60000]\n",
      "loss: 2.199682  [44864/60000]\n",
      "loss: 2.190567  [51264/60000]\n",
      "loss: 2.160487  [57664/60000]\n",
      "Test Error: \n",
      " Accuracy: 50.6%, Avg loss: 2.156297 \n",
      "\n",
      "Epoch 2\n",
      "-------------------------------\n",
      "loss: 2.167261  [   64/60000]\n",
      "loss: 2.158339  [ 6464/60000]\n",
      "loss: 2.103681  [12864/60000]\n",
      "loss: 2.111515  [19264/60000]\n",
      "loss: 2.060671  [25664/60000]\n",
      "loss: 2.011058  [32064/60000]\n",
      "loss: 2.027161  [38464/60000]\n",
      "loss: 1.959697  [44864/60000]\n",
      "loss: 1.952793  [51264/60000]\n",
      "loss: 1.882480  [57664/60000]\n",
      "Test Error: \n",
      " Accuracy: 59.6%, Avg loss: 1.882403 \n",
      "\n",
      "Epoch 3\n",
      "-------------------------------\n",
      "loss: 1.916326  [   64/60000]\n",
      "loss: 1.886969  [ 6464/60000]\n",
      "loss: 1.776004  [12864/60000]\n",
      "loss: 1.803933  [19264/60000]\n",
      "loss: 1.695318  [25664/60000]\n",
      "loss: 1.667745  [32064/60000]\n",
      "loss: 1.671950  [38464/60000]\n",
      "loss: 1.593864  [44864/60000]\n",
      "loss: 1.608567  [51264/60000]\n",
      "loss: 1.499640  [57664/60000]\n",
      "Test Error: \n",
      " Accuracy: 60.7%, Avg loss: 1.518954 \n",
      "\n",
      "Epoch 4\n",
      "-------------------------------\n",
      "loss: 1.585775  [   64/60000]\n",
      "loss: 1.552808  [ 6464/60000]\n",
      "loss: 1.410616  [12864/60000]\n",
      "loss: 1.470261  [19264/60000]\n",
      "loss: 1.350762  [25664/60000]\n",
      "loss: 1.361045  [32064/60000]\n",
      "loss: 1.363913  [38464/60000]\n",
      "loss: 1.304681  [44864/60000]\n",
      "loss: 1.331437  [51264/60000]\n",
      "loss: 1.230133  [57664/60000]\n",
      "Test Error: \n",
      " Accuracy: 63.0%, Avg loss: 1.253869 \n",
      "\n",
      "Epoch 5\n",
      "-------------------------------\n",
      "loss: 1.327348  [   64/60000]\n",
      "loss: 1.314950  [ 6464/60000]\n",
      "loss: 1.152035  [12864/60000]\n",
      "loss: 1.251750  [19264/60000]\n",
      "loss: 1.123030  [25664/60000]\n",
      "loss: 1.153545  [32064/60000]\n",
      "loss: 1.170855  [38464/60000]\n",
      "loss: 1.120317  [44864/60000]\n",
      "loss: 1.151741  [51264/60000]\n",
      "loss: 1.067568  [57664/60000]\n",
      "Test Error: \n",
      " Accuracy: 64.6%, Avg loss: 1.086058 \n",
      "\n",
      "Epoch 6\n",
      "-------------------------------\n",
      "loss: 1.151276  [   64/60000]\n",
      "loss: 1.161244  [ 6464/60000]\n",
      "loss: 0.979197  [12864/60000]\n",
      "loss: 1.114915  [19264/60000]\n",
      "loss: 0.980788  [25664/60000]\n",
      "loss: 1.013959  [32064/60000]\n",
      "loss: 1.051098  [38464/60000]\n",
      "loss: 1.003067  [44864/60000]\n",
      "loss: 1.034159  [51264/60000]\n",
      "loss: 0.965347  [57664/60000]\n",
      "Test Error: \n",
      " Accuracy: 65.7%, Avg loss: 0.978268 \n",
      "\n",
      "Epoch 7\n",
      "-------------------------------\n",
      "loss: 1.030067  [   64/60000]\n",
      "loss: 1.062004  [ 6464/60000]\n",
      "loss: 0.861687  [12864/60000]\n",
      "loss: 1.024713  [19264/60000]\n",
      "loss: 0.892276  [25664/60000]\n",
      "loss: 0.917897  [32064/60000]\n",
      "loss: 0.973882  [38464/60000]\n",
      "loss: 0.927357  [44864/60000]\n",
      "loss: 0.953843  [51264/60000]\n",
      "loss: 0.897097  [57664/60000]\n",
      "Test Error: \n",
      " Accuracy: 66.9%, Avg loss: 0.905714 \n",
      "\n",
      "Epoch 8\n",
      "-------------------------------\n",
      "loss: 0.942852  [   64/60000]\n",
      "loss: 0.994042  [ 6464/60000]\n",
      "loss: 0.778378  [12864/60000]\n",
      "loss: 0.961566  [19264/60000]\n",
      "loss: 0.834273  [25664/60000]\n",
      "loss: 0.849594  [32064/60000]\n",
      "loss: 0.920504  [38464/60000]\n",
      "loss: 0.877165  [44864/60000]\n",
      "loss: 0.897219  [51264/60000]\n",
      "loss: 0.848421  [57664/60000]\n",
      "Test Error: \n",
      " Accuracy: 67.9%, Avg loss: 0.854210 \n",
      "\n",
      "Epoch 9\n",
      "-------------------------------\n",
      "loss: 0.877417  [   64/60000]\n",
      "loss: 0.943605  [ 6464/60000]\n",
      "loss: 0.716923  [12864/60000]\n",
      "loss: 0.915013  [19264/60000]\n",
      "loss: 0.793738  [25664/60000]\n",
      "loss: 0.799580  [32064/60000]\n",
      "loss: 0.880708  [38464/60000]\n",
      "loss: 0.842507  [44864/60000]\n",
      "loss: 0.855788  [51264/60000]\n",
      "loss: 0.811309  [57664/60000]\n",
      "Test Error: \n",
      " Accuracy: 69.4%, Avg loss: 0.815537 \n",
      "\n",
      "Epoch 10\n",
      "-------------------------------\n",
      "loss: 0.825623  [   64/60000]\n",
      "loss: 0.903220  [ 6464/60000]\n",
      "loss: 0.669585  [12864/60000]\n",
      "loss: 0.879147  [19264/60000]\n",
      "loss: 0.763218  [25664/60000]\n",
      "loss: 0.761781  [32064/60000]\n",
      "loss: 0.848929  [38464/60000]\n",
      "loss: 0.816961  [44864/60000]\n",
      "loss: 0.824250  [51264/60000]\n",
      "loss: 0.781260  [57664/60000]\n",
      "Test Error: \n",
      " Accuracy: 70.7%, Avg loss: 0.784938 \n",
      "\n",
      "Done!\n"
     ]
    }
   ],
   "execution_count": 8
  },
  {
   "metadata": {},
   "cell_type": "markdown",
   "source": "",
   "id": "c14fe8e2ebece185"
  }
 ],
 "metadata": {
  "kernelspec": {
   "display_name": "Python 3",
   "language": "python",
   "name": "python3"
  },
  "language_info": {
   "codemirror_mode": {
    "name": "ipython",
    "version": 2
   },
   "file_extension": ".py",
   "mimetype": "text/x-python",
   "name": "python",
   "nbconvert_exporter": "python",
   "pygments_lexer": "ipython2",
   "version": "2.7.6"
  }
 },
 "nbformat": 4,
 "nbformat_minor": 5
}
