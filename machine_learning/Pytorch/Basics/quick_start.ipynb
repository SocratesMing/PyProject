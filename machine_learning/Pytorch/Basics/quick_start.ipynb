{
 "cells": [
  {
   "cell_type": "markdown",
   "source": [
    "# QUICKSTART\n",
    "## 数据集\n",
    "\n",
    "两个数据集\n",
    "torch.utils.data.DataLoader 包装了Dataset的迭代器\n",
    "torch.utils.data.Dataset  包含了样本和相关的标签\n",
    "\n",
    "TorchText, TorchVision, and TorchAudio都报班了dataset\n",
    "每个 TorchVision 数据集都包含两个参数：transform 和 target_transform，分别用于修改样本和标签。"
   ],
   "metadata": {
    "collapsed": false
   }
  },
  {
   "cell_type": "code",
   "execution_count": 17,
   "outputs": [],
   "source": [
    "import torch\n",
    "from torch import nn\n",
    "from torch.utils.data import DataLoader\n",
    "from torchvision import datasets\n",
    "from torchvision.transforms import ToTensor\n",
    "\n",
    "#\n",
    "\n",
    "\n",
    "# 从开放数据集中下载训练数据.\n",
    "training_data = datasets.FashionMNIST(\n",
    "    root=\"data\",\n",
    "    train=True,\n",
    "    download=True,\n",
    "    transform=ToTensor(),\n",
    ")\n",
    "\n",
    "# Download test data from open datasets.\n",
    "test_data = datasets.FashionMNIST(\n",
    "    root=\"data\",\n",
    "    train=False,\n",
    "    download=True,\n",
    "    transform=ToTensor(),\n",
    ")"
   ],
   "metadata": {
    "collapsed": false,
    "ExecuteTime": {
     "end_time": "2023-07-24T14:35:46.153979300Z",
     "start_time": "2023-07-24T14:35:46.082577200Z"
    }
   }
  },
  {
   "cell_type": "markdown",
   "source": [
    "我们将数据集作为参数传递给 DataLoader。\n",
    "这在我们的数据集上包装了一个可迭代对象，并支持自动批处理、采样、洗牌和多进程数据加载。\n",
    "这里我们定义批量大小为 64，即数据加载器迭代中的每个元素将返回一批 64 个特征和标签。"
   ],
   "metadata": {
    "collapsed": false
   }
  },
  {
   "cell_type": "code",
   "execution_count": 18,
   "outputs": [
    {
     "name": "stdout",
     "output_type": "stream",
     "text": [
      "Shape of X [N, C, H, W]: torch.Size([64, 1, 28, 28])\n",
      "Shape of y: torch.Size([64]) torch.int64\n"
     ]
    }
   ],
   "source": [
    "batch_size = 64\n",
    "\n",
    "# Create data loaders.\n",
    "train_dataloader = DataLoader(training_data, batch_size=batch_size)\n",
    "test_dataloader = DataLoader(test_data, batch_size=batch_size)\n",
    "\n",
    "for X, y in test_dataloader:\n",
    "    print(f\"Shape of X [N, C, H, W]: {X.shape}\")\n",
    "    print(f\"Shape of y: {y.shape} {y.dtype}\")\n",
    "    break"
   ],
   "metadata": {
    "collapsed": false,
    "ExecuteTime": {
     "end_time": "2023-07-24T14:35:46.153979300Z",
     "start_time": "2023-07-24T14:35:46.109839400Z"
    }
   }
  },
  {
   "cell_type": "markdown",
   "source": [
    "## 创建模型\n",
    "\n",
    "为了在 PyTorch 中定义神经网络，我们创建一个继承自 nn.Module 的类。\n",
    "我们在 __init__ 函数中定义网络层，并在前向函数中指定数据如何通过网络。\n",
    "为了加速神经网络中的操作，我们将其转移到 GPU 或 MPS（如果可用）。"
   ],
   "metadata": {
    "collapsed": false
   }
  },
  {
   "cell_type": "code",
   "execution_count": 19,
   "outputs": [
    {
     "name": "stdout",
     "output_type": "stream",
     "text": [
      "Using cuda device\n",
      "NeuralNetwork(\n",
      "  (flatten): Flatten(start_dim=1, end_dim=-1)\n",
      "  (linear_relu_stack): Sequential(\n",
      "    (0): Linear(in_features=784, out_features=512, bias=True)\n",
      "    (1): ReLU()\n",
      "    (2): Linear(in_features=512, out_features=512, bias=True)\n",
      "    (3): ReLU()\n",
      "    (4): Linear(in_features=512, out_features=10, bias=True)\n",
      "  )\n",
      ")\n"
     ]
    }
   ],
   "source": [
    "# Get cpu, gpu or mps device for training.\n",
    "device = (\n",
    "    \"cuda\"\n",
    "    if torch.cuda.is_available()\n",
    "    else \"mps\"\n",
    "    if torch.backends.mps.is_available()\n",
    "    else \"cpu\"\n",
    ")\n",
    "print(f\"Using {device} device\")\n",
    "\n",
    "# Define model\n",
    "class NeuralNetwork(nn.Module):\n",
    "    def __init__(self):\n",
    "        super().__init__()\n",
    "        self.flatten = nn.Flatten()\n",
    "        self.linear_relu_stack = nn.Sequential(\n",
    "            nn.Linear(28*28, 512),\n",
    "            nn.ReLU(),\n",
    "            nn.Linear(512, 512),\n",
    "            nn.ReLU(),\n",
    "            nn.Linear(512, 10)\n",
    "        )\n",
    "\n",
    "    def forward(self, x):\n",
    "        x = self.flatten(x)\n",
    "        logits = self.linear_relu_stack(x)\n",
    "        return logits\n",
    "\n",
    "model = NeuralNetwork().to(device)\n",
    "print(model)"
   ],
   "metadata": {
    "collapsed": false,
    "ExecuteTime": {
     "end_time": "2023-07-24T14:35:46.153979300Z",
     "start_time": "2023-07-24T14:35:46.124223300Z"
    }
   }
  },
  {
   "cell_type": "markdown",
   "source": [
    "## 优化模型\n",
    "\n",
    "为了训练模型，我们需要损失函数（loss function）和优化器（optimizer）"
   ],
   "metadata": {
    "collapsed": false
   }
  },
  {
   "cell_type": "code",
   "execution_count": 20,
   "outputs": [],
   "source": [
    "loss_fn = nn.CrossEntropyLoss()\n",
    "optimizer = torch.optim.SGD(model.parameters(), lr=1e-3)"
   ],
   "metadata": {
    "collapsed": false,
    "ExecuteTime": {
     "end_time": "2023-07-24T14:35:46.153979300Z",
     "start_time": "2023-07-24T14:35:46.134621800Z"
    }
   }
  },
  {
   "cell_type": "markdown",
   "source": [
    "在单个训练循环中，模型对训练数据集（批量输入）进行预测，并反向传播预测误差以调整模型的参数。"
   ],
   "metadata": {
    "collapsed": false
   }
  },
  {
   "cell_type": "code",
   "execution_count": 21,
   "outputs": [],
   "source": [
    "def train(dataloader, model, loss_fn, optimizer):\n",
    "    size = len(dataloader.dataset)\n",
    "    model.train()\n",
    "    for batch, (X, y) in enumerate(dataloader):\n",
    "        X, y = X.to(device), y.to(device)\n",
    "\n",
    "        # Compute prediction error\n",
    "        pred = model(X)\n",
    "        loss = loss_fn(pred, y)\n",
    "\n",
    "        # Backpropagation\n",
    "        loss.backward()\n",
    "        optimizer.step()\n",
    "        optimizer.zero_grad()\n",
    "\n",
    "        if batch % 100 == 0:\n",
    "            loss, current = loss.item(), (batch + 1) * len(X)\n",
    "            print(f\"loss: {loss:>7f}  [{current:>5d}/{size:>5d}]\")"
   ],
   "metadata": {
    "collapsed": false,
    "ExecuteTime": {
     "end_time": "2023-07-24T14:35:46.153979300Z",
     "start_time": "2023-07-24T14:35:46.138861300Z"
    }
   }
  },
  {
   "cell_type": "markdown",
   "source": [],
   "metadata": {
    "collapsed": false
   }
  },
  {
   "cell_type": "markdown",
   "source": [
    "我们还根据测试数据集检查模型的性能，以确保它正在学习"
   ],
   "metadata": {
    "collapsed": false
   }
  },
  {
   "cell_type": "code",
   "execution_count": 22,
   "outputs": [],
   "source": [
    "\n",
    "def test(dataloader, model, loss_fn):\n",
    "    size = len(dataloader.dataset)\n",
    "    num_batches = len(dataloader)\n",
    "    model.eval()\n",
    "    test_loss, correct = 0, 0\n",
    "    with torch.no_grad():\n",
    "        for X, y in dataloader:\n",
    "            X, y = X.to(device), y.to(device)\n",
    "            pred = model(X)\n",
    "            test_loss += loss_fn(pred, y).item()\n",
    "            correct += (pred.argmax(1) == y).type(torch.float).sum().item()\n",
    "    test_loss /= num_batches\n",
    "    correct /= size\n",
    "    print(f\"Test Error: \\n Accuracy: {(100*correct):>0.1f}%, Avg loss: {test_loss:>8f} \\n\")"
   ],
   "metadata": {
    "collapsed": false,
    "ExecuteTime": {
     "end_time": "2023-07-24T14:35:46.153979300Z",
     "start_time": "2023-07-24T14:35:46.143624400Z"
    }
   }
  },
  {
   "cell_type": "markdown",
   "source": [
    "训练过程需要进行多次迭代（epoch）。\n",
    "在每个时期，模型都会学习参数以做出更好的预测。 我们打印每个时期模型的准确性和损失； 我们希望看到每个 epoch 的准确率都会提高，损失也会减少。"
   ],
   "metadata": {
    "collapsed": false
   }
  },
  {
   "cell_type": "code",
   "execution_count": 23,
   "outputs": [
    {
     "name": "stdout",
     "output_type": "stream",
     "text": [
      "Epoch 1\n",
      "-------------------------------\n",
      "loss: 2.298187  [   64/60000]\n",
      "loss: 2.287460  [ 6464/60000]\n",
      "loss: 2.268719  [12864/60000]\n",
      "loss: 2.262282  [19264/60000]\n",
      "loss: 2.240592  [25664/60000]\n",
      "loss: 2.227759  [32064/60000]\n",
      "loss: 2.224696  [38464/60000]\n",
      "loss: 2.199257  [44864/60000]\n",
      "loss: 2.195795  [51264/60000]\n",
      "loss: 2.160345  [57664/60000]\n",
      "Test Error: \n",
      " Accuracy: 50.0%, Avg loss: 2.156364 \n",
      "\n",
      "Epoch 2\n",
      "-------------------------------\n",
      "loss: 2.163530  [   64/60000]\n",
      "loss: 2.153956  [ 6464/60000]\n",
      "loss: 2.099411  [12864/60000]\n",
      "loss: 2.114296  [19264/60000]\n",
      "loss: 2.057936  [25664/60000]\n",
      "loss: 2.013321  [32064/60000]\n",
      "loss: 2.033995  [38464/60000]\n",
      "loss: 1.961403  [44864/60000]\n",
      "loss: 1.960019  [51264/60000]\n",
      "loss: 1.885435  [57664/60000]\n",
      "Test Error: \n",
      " Accuracy: 56.2%, Avg loss: 1.887825 \n",
      "\n",
      "Epoch 3\n",
      "-------------------------------\n",
      "loss: 1.911684  [   64/60000]\n",
      "loss: 1.881137  [ 6464/60000]\n",
      "loss: 1.773952  [12864/60000]\n",
      "loss: 1.815859  [19264/60000]\n",
      "loss: 1.700500  [25664/60000]\n",
      "loss: 1.662377  [32064/60000]\n",
      "loss: 1.683296  [38464/60000]\n",
      "loss: 1.590862  [44864/60000]\n",
      "loss: 1.610590  [51264/60000]\n",
      "loss: 1.498380  [57664/60000]\n",
      "Test Error: \n",
      " Accuracy: 61.8%, Avg loss: 1.522796 \n",
      "\n",
      "Epoch 4\n",
      "-------------------------------\n",
      "loss: 1.581646  [   64/60000]\n",
      "loss: 1.544876  [ 6464/60000]\n",
      "loss: 1.410264  [12864/60000]\n",
      "loss: 1.479176  [19264/60000]\n",
      "loss: 1.356692  [25664/60000]\n",
      "loss: 1.359514  [32064/60000]\n",
      "loss: 1.366948  [38464/60000]\n",
      "loss: 1.303540  [44864/60000]\n",
      "loss: 1.336006  [51264/60000]\n",
      "loss: 1.222118  [57664/60000]\n",
      "Test Error: \n",
      " Accuracy: 63.3%, Avg loss: 1.255319 \n",
      "\n",
      "Epoch 5\n",
      "-------------------------------\n",
      "loss: 1.328323  [   64/60000]\n",
      "loss: 1.307981  [ 6464/60000]\n",
      "loss: 1.153434  [12864/60000]\n",
      "loss: 1.257843  [19264/60000]\n",
      "loss: 1.130469  [25664/60000]\n",
      "loss: 1.159138  [32064/60000]\n",
      "loss: 1.170390  [38464/60000]\n",
      "loss: 1.123220  [44864/60000]\n",
      "loss: 1.162054  [51264/60000]\n",
      "loss: 1.060625  [57664/60000]\n",
      "Test Error: \n",
      " Accuracy: 64.6%, Avg loss: 1.088138 \n",
      "\n",
      "Done!\n"
     ]
    }
   ],
   "source": [
    "epochs = 5\n",
    "for t in range(epochs):\n",
    "    print(f\"Epoch {t+1}\\n-------------------------------\")\n",
    "    train(train_dataloader, model, loss_fn, optimizer)\n",
    "    test(test_dataloader, model, loss_fn)\n",
    "print(\"Done!\")"
   ],
   "metadata": {
    "collapsed": false,
    "ExecuteTime": {
     "end_time": "2023-07-24T14:36:24.718682600Z",
     "start_time": "2023-07-24T14:35:46.148469700Z"
    }
   }
  }
 ],
 "metadata": {
  "kernelspec": {
   "display_name": "Python 3",
   "language": "python",
   "name": "python3"
  },
  "language_info": {
   "codemirror_mode": {
    "name": "ipython",
    "version": 2
   },
   "file_extension": ".py",
   "mimetype": "text/x-python",
   "name": "python",
   "nbconvert_exporter": "python",
   "pygments_lexer": "ipython2",
   "version": "2.7.6"
  }
 },
 "nbformat": 4,
 "nbformat_minor": 0
}
