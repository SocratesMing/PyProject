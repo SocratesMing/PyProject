{
 "cells": [
  {
   "cell_type": "code",
   "id": "initial_id",
   "metadata": {
    "collapsed": true,
    "ExecuteTime": {
     "end_time": "2025-04-23T07:24:35.761892Z",
     "start_time": "2025-04-23T07:24:33.228306Z"
    }
   },
   "source": [
    "import numpy as np\n",
    "import statsmodels.api as sm\n",
    "import statsmodels.formula.api as smf\n",
    "\n",
    "# Load data\n",
    "dat = sm.datasets.get_rdataset(\"Guerry\", \"HistData\").data\n",
    "print(dat.head())\n",
    "# Fit regression model (using the natural log of one of the regressors)\n",
    "results = smf.ols('Lottery ~ Literacy + np.log(Pop1831)', data=dat).fit()\n",
    "\n",
    "# Inspect the results\n",
    "print(results.summary())"
   ],
   "outputs": [
    {
     "name": "stdout",
     "output_type": "stream",
     "text": [
      "   dept Region    Department  Crime_pers  Crime_prop  Literacy  Donations  \\\n",
      "0     1      E           Ain       28870       15890        37       5098   \n",
      "1     2      N         Aisne       26226        5521        51       8901   \n",
      "2     3      C        Allier       26747        7925        13      10973   \n",
      "3     4      E  Basses-Alpes       12935        7289        46       2733   \n",
      "4     5      E  Hautes-Alpes       17488        8174        69       6962   \n",
      "\n",
      "   Infants  Suicides MainCity  ...  Crime_parents  Infanticide  \\\n",
      "0    33120     35039    2:Med  ...             71           60   \n",
      "1    14572     12831    2:Med  ...              4           82   \n",
      "2    17044    114121    2:Med  ...             46           42   \n",
      "3    23018     14238     1:Sm  ...             70           12   \n",
      "4    23076     16171     1:Sm  ...             22           23   \n",
      "\n",
      "   Donation_clergy  Lottery  Desertion  Instruction  Prostitutes  Distance  \\\n",
      "0               69       41         55           46           13   218.372   \n",
      "1               36       38         82           24          327    65.945   \n",
      "2               76       66         16           85           34   161.927   \n",
      "3               37       80         32           29            2   351.399   \n",
      "4               64       79         35            7            1   320.280   \n",
      "\n",
      "   Area  Pop1831  \n",
      "0  5762   346.03  \n",
      "1  7369   513.00  \n",
      "2  7340   298.26  \n",
      "3  6925   155.90  \n",
      "4  5549   129.10  \n",
      "\n",
      "[5 rows x 23 columns]\n",
      "                            OLS Regression Results                            \n",
      "==============================================================================\n",
      "Dep. Variable:                Lottery   R-squared:                       0.348\n",
      "Model:                            OLS   Adj. R-squared:                  0.333\n",
      "Method:                 Least Squares   F-statistic:                     22.20\n",
      "Date:                Wed, 23 Apr 2025   Prob (F-statistic):           1.90e-08\n",
      "Time:                        15:24:35   Log-Likelihood:                -379.82\n",
      "No. Observations:                  86   AIC:                             765.6\n",
      "Df Residuals:                      83   BIC:                             773.0\n",
      "Df Model:                           2                                         \n",
      "Covariance Type:            nonrobust                                         \n",
      "===================================================================================\n",
      "                      coef    std err          t      P>|t|      [0.025      0.975]\n",
      "-----------------------------------------------------------------------------------\n",
      "Intercept         246.4341     35.233      6.995      0.000     176.358     316.510\n",
      "Literacy           -0.4889      0.128     -3.832      0.000      -0.743      -0.235\n",
      "np.log(Pop1831)   -31.3114      5.977     -5.239      0.000     -43.199     -19.424\n",
      "==============================================================================\n",
      "Omnibus:                        3.713   Durbin-Watson:                   2.019\n",
      "Prob(Omnibus):                  0.156   Jarque-Bera (JB):                3.394\n",
      "Skew:                          -0.487   Prob(JB):                        0.183\n",
      "Kurtosis:                       3.003   Cond. No.                         702.\n",
      "==============================================================================\n",
      "\n",
      "Notes:\n",
      "[1] Standard Errors assume that the covariance matrix of the errors is correctly specified.\n"
     ]
    }
   ],
   "execution_count": 3
  }
 ],
 "metadata": {
  "kernelspec": {
   "display_name": "Python 3",
   "language": "python",
   "name": "python3"
  },
  "language_info": {
   "codemirror_mode": {
    "name": "ipython",
    "version": 2
   },
   "file_extension": ".py",
   "mimetype": "text/x-python",
   "name": "python",
   "nbconvert_exporter": "python",
   "pygments_lexer": "ipython2",
   "version": "2.7.6"
  }
 },
 "nbformat": 4,
 "nbformat_minor": 5
}
