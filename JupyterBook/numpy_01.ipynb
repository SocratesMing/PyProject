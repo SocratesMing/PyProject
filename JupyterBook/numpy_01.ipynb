{
 "cells": [
  {
   "cell_type": "markdown",
   "id": "b0d001d0",
   "metadata": {},
   "source": [
    "import numpy as np\n",
    "a = np.arange(15).reshape(3, 5)\n",
    "print(a)\n",
    "print(a.shape)\n",
    "print(a.ndim)\n",
    "print(a.dtype.name)\n",
    "print(a.itemsize)\n",
    "print(type(a))"
   ]
  },
  {
   "cell_type": "code",
   "execution_count": 4,
   "id": "067fbe94",
   "metadata": {},
   "outputs": [
    {
     "name": "stdout",
     "output_type": "stream",
     "text": [
      "[2 3 4]\n",
      "\n",
      "[[1.5 2.  3. ]\n",
      " [4.  5.  6. ]]\n",
      "\n",
      "[[1.+0.j 2.+0.j]\n",
      " [3.+0.j 4.+0.j]]\n",
      "[[0. 0. 0. 0.]\n",
      " [0. 0. 0. 0.]\n",
      " [0. 0. 0. 0.]]\n",
      "[[[1 1 1 1]\n",
      "  [1 1 1 1]\n",
      "  [1 1 1 1]]\n",
      "\n",
      " [[1 1 1 1]\n",
      "  [1 1 1 1]\n",
      "  [1 1 1 1]]]\n",
      "[[1.39069238e-309 1.39069238e-309 1.39069238e-309]\n",
      " [1.39069238e-309 1.39069238e-309 1.39069238e-309]]\n",
      "[10 15 20 25]\n",
      "[0.  0.3 0.6 0.9 1.2 1.5 1.8]\n",
      "[0.   0.25 0.5  0.75 1.   1.25 1.5  1.75 2.  ]\n"
     ]
    }
   ],
   "source": [
    "import numpy as np\n",
    "\n",
    "a = np.array([2, 3, 4])\n",
    "print(a)\n",
    "print()\n",
    "# a = np.array(1, 2, 3, 4) 这种创建是错误的\n",
    "b = np.array([(1.5, 2, 3), (4, 5, 6)])\n",
    "print(b)\n",
    "print()\n",
    "\n",
    "c = np.array([[1, 2], [3, 4]], dtype=complex)\n",
    "print(c)\n",
    "# [[1.+0.j 2.+0.j]\n",
    "# [3.+0.j 4.+0.j]]\n",
    "\n",
    "print(np.zeros((3, 4)))  # 零矩阵\n",
    "# [[0. 0. 0. 0.]\n",
    "# [0. 0. 0. 0.]\n",
    "# [0. 0. 0. 0.]]\n",
    "print(np.ones((2, 3, 4), dtype=np.int16), end=\"\\n\")  # 单位矩阵,2个3行4列的单位矩阵\n",
    "#  [[[1 1 1 1]\n",
    "#   [1 1 1 1]\n",
    "#   [1 1 1 1]]\n",
    "# \n",
    "#  [[1 1 1 1]\n",
    "#   [1 1 1 1]\n",
    "#   [1 1 1 1]]]\n",
    "print(np.empty((2, 3)))  # 空矩阵\n",
    "# [[1.39069238e-309 1.39069238e-309 1.39069238e-309]\n",
    "# [1.39069238e-309 1.39069238e-309 1.39069238e-309]]\n",
    "print(np.arange(10, 30, 5))  # 没有最后一个\n",
    "# [10 15 20 25]\n",
    "print(np.arange(0, 2, 0.3))  # 接受浮点数\n",
    "# [0.  0.3 0.6 0.9 1.2 1.5 1.8]\n",
    "print(np.linspace(0, 2, 9))  # 分成9份，(b-a)/8\n",
    "# [0.   0.25 0.5  0.75 1.   1.25 1.5  1.75 2.  ]\n"
   ]
  },
  {
   "cell_type": "code",
   "execution_count": 3,
   "id": "7bd87a04",
   "metadata": {},
   "outputs": [
    {
     "name": "stdout",
     "output_type": "stream",
     "text": [
      "[20 30 40 50]\n",
      "[0 1 2 3]\n",
      "[-20 -29 -38 -47]\n",
      "[0 1 4 9]\n",
      "[ 9.12945251 -9.88031624  7.4511316  -2.62374854]\n",
      "[ True  True False False]\n",
      "[[2 0]\n",
      " [0 4]]\n",
      "[[5 4]\n",
      " [3 4]]\n",
      "[[5 4]\n",
      " [3 4]]\n"
     ]
    }
   ],
   "source": [
    "import numpy as np\n",
    "\n",
    "a = np.array([20, 30, 40, 50])\n",
    "b = np.arange(4)\n",
    "print(a)  # [20 30 40 50]\n",
    "print(b)  # [0 1 2 3]\n",
    "print(b - a)  # [-20 -29 -38 -47]\n",
    "print(b ** 2)  # [0 1 4 9]\n",
    "print(10 * np.sin(a))  # [ 9.12945251 -9.88031624  7.4511316  -2.62374854]\n",
    "print(a < 35)  # [ True  True False False]\n",
    "\n",
    "######################\n",
    "A = np.array([[1, 1], [0, 1]])\n",
    "B = np.array([[2, 0], [3, 4]])\n",
    "print(A * B)  # 对应元素相乘,[[2 0] [0 4]]\n",
    "print(A @ B)  # 矩阵点积，[[5 4] [3 4]]\n",
    "print(A.dot(B))  # 矩阵点积，[[5 4] [3 4]]\n"
   ]
  },
  {
   "cell_type": "code",
   "execution_count": null,
   "id": "3e5df208",
   "metadata": {},
   "outputs": [],
   "source": []
  }
 ],
 "metadata": {
  "kernelspec": {
   "display_name": "Python 3 (ipykernel)",
   "language": "python",
   "name": "python3"
  },
  "language_info": {
   "codemirror_mode": {
    "name": "ipython",
    "version": 3
   },
   "file_extension": ".py",
   "mimetype": "text/x-python",
   "name": "python",
   "nbconvert_exporter": "python",
   "pygments_lexer": "ipython3",
   "version": "3.10.6"
  }
 },
 "nbformat": 4,
 "nbformat_minor": 5
}
