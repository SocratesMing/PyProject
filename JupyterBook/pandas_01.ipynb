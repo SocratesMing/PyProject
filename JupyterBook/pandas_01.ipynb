{
 "cells": [
  {
   "cell_type": "markdown",
   "source": [
    "# 创建dataFrame"
   ],
   "metadata": {
    "collapsed": false,
    "pycharm": {
     "name": "#%% md\n"
    }
   }
  },
  {
   "cell_type": "code",
   "execution_count": 255,
   "outputs": [
    {
     "name": "stdout",
     "output_type": "stream",
     "text": [
      "DatetimeIndex(['2013-01-01', '2013-01-02', '2013-01-03', '2013-01-04',\n",
      "               '2013-01-05', '2013-01-06'],\n",
      "              dtype='datetime64[ns]', freq='D')\n",
      "- - - - - - - - - - - - - - - - - - - - - - - - - - - - - - - - - - - - - - - - - - - - - - - - - - \n",
      "                   A         B         C         D\n",
      "2013-01-01 -1.902578 -1.049960 -0.755687 -1.261681\n",
      "2013-01-02  1.371784 -0.447580  1.146231 -1.398147\n",
      "2013-01-03 -0.529472  0.229024 -2.385101 -0.832358\n",
      "2013-01-04 -0.538858 -0.298062  1.180761  0.905542\n",
      "2013-01-05 -1.562485 -0.034475  0.260163 -0.487132\n",
      "2013-01-06 -0.045748  0.229686 -1.341456  0.424127\n"
     ]
    }
   ],
   "source": [
    "import pandas as pd\n",
    "import numpy as np\n",
    "dates = pd.date_range(\"20130101\", periods=6)\n",
    "print(dates)\n",
    "print(\"- \"*50)\n",
    "df = pd.DataFrame(np.random.randn(6, 4), index=dates, columns=list(\"ABCD\"))\n",
    "print(df)"
   ],
   "metadata": {
    "collapsed": false,
    "pycharm": {
     "name": "#%%\n"
    }
   }
  },
  {
   "cell_type": "markdown",
   "source": [
    "## 基本属性"
   ],
   "metadata": {
    "collapsed": false,
    "pycharm": {
     "name": "#%% md\n"
    }
   }
  },
  {
   "cell_type": "code",
   "execution_count": 256,
   "outputs": [
    {
     "name": "stdout",
     "output_type": "stream",
     "text": [
      "                   A         B         C         D\n",
      "2013-01-01 -1.902578 -1.049960 -0.755687 -1.261681\n",
      "2013-01-02  1.371784 -0.447580  1.146231 -1.398147\n",
      "2013-01-03 -0.529472  0.229024 -2.385101 -0.832358\n",
      "2013-01-04 -0.538858 -0.298062  1.180761  0.905542\n",
      "2013-01-05 -1.562485 -0.034475  0.260163 -0.487132\n"
     ]
    }
   ],
   "source": [
    "print(df.head())"
   ],
   "metadata": {
    "collapsed": false,
    "pycharm": {
     "name": "#%%\n"
    }
   }
  },
  {
   "cell_type": "markdown",
   "source": [
    "默认后5行"
   ],
   "metadata": {
    "collapsed": false,
    "pycharm": {
     "name": "#%% md\n"
    }
   }
  },
  {
   "cell_type": "code",
   "execution_count": 257,
   "outputs": [
    {
     "name": "stdout",
     "output_type": "stream",
     "text": [
      "                   A         B         C         D\n",
      "2013-01-02  1.371784 -0.447580  1.146231 -1.398147\n",
      "2013-01-03 -0.529472  0.229024 -2.385101 -0.832358\n",
      "2013-01-04 -0.538858 -0.298062  1.180761  0.905542\n",
      "2013-01-05 -1.562485 -0.034475  0.260163 -0.487132\n",
      "2013-01-06 -0.045748  0.229686 -1.341456  0.424127\n"
     ]
    }
   ],
   "source": [
    "print(df.tail())"
   ],
   "metadata": {
    "collapsed": false,
    "pycharm": {
     "name": "#%%\n"
    }
   }
  },
  {
   "cell_type": "markdown",
   "source": [
    "索引"
   ],
   "metadata": {
    "collapsed": false,
    "pycharm": {
     "name": "#%% md\n"
    }
   }
  },
  {
   "cell_type": "code",
   "execution_count": 258,
   "outputs": [
    {
     "name": "stdout",
     "output_type": "stream",
     "text": [
      "DatetimeIndex(['2013-01-01', '2013-01-02', '2013-01-03', '2013-01-04',\n",
      "               '2013-01-05', '2013-01-06'],\n",
      "              dtype='datetime64[ns]', freq='D')\n"
     ]
    }
   ],
   "source": [
    "print(df.index)"
   ],
   "metadata": {
    "collapsed": false,
    "pycharm": {
     "name": "#%%\n"
    }
   }
  },
  {
   "cell_type": "markdown",
   "source": [
    "转置"
   ],
   "metadata": {
    "collapsed": false,
    "pycharm": {
     "name": "#%% md\n"
    }
   }
  },
  {
   "cell_type": "code",
   "execution_count": 259,
   "outputs": [
    {
     "name": "stdout",
     "output_type": "stream",
     "text": [
      "   2013-01-01  2013-01-02  2013-01-03  2013-01-04  2013-01-05  2013-01-06\n",
      "A   -1.902578    1.371784   -0.529472   -0.538858   -1.562485   -0.045748\n",
      "B   -1.049960   -0.447580    0.229024   -0.298062   -0.034475    0.229686\n",
      "C   -0.755687    1.146231   -2.385101    1.180761    0.260163   -1.341456\n",
      "D   -1.261681   -1.398147   -0.832358    0.905542   -0.487132    0.424127\n"
     ]
    }
   ],
   "source": [
    "print(df.T)"
   ],
   "metadata": {
    "collapsed": false,
    "pycharm": {
     "name": "#%%\n"
    }
   }
  },
  {
   "cell_type": "code",
   "execution_count": 260,
   "outputs": [
    {
     "name": "stdout",
     "output_type": "stream",
     "text": [
      "Index(['A', 'B', 'C', 'D'], dtype='object')\n"
     ]
    }
   ],
   "source": [
    "print(df.columns)"
   ],
   "metadata": {
    "collapsed": false,
    "pycharm": {
     "name": "#%%\n"
    }
   }
  },
  {
   "cell_type": "markdown",
   "source": [
    "数据转换"
   ],
   "metadata": {
    "collapsed": false,
    "pycharm": {
     "name": "#%% md\n"
    }
   }
  },
  {
   "cell_type": "code",
   "execution_count": 261,
   "outputs": [
    {
     "name": "stdout",
     "output_type": "stream",
     "text": [
      "[[-1.90257848 -1.04996028 -0.75568676 -1.26168072]\n",
      " [ 1.37178399 -0.4475804   1.14623104 -1.3981469 ]\n",
      " [-0.52947248  0.22902367 -2.3851007  -0.8323583 ]\n",
      " [-0.53885811 -0.2980623   1.18076129  0.90554156]\n",
      " [-1.56248508 -0.03447505  0.26016321 -0.48713246]\n",
      " [-0.04574806  0.22968642 -1.34145608  0.42412654]]\n"
     ]
    }
   ],
   "source": [
    "\n",
    "print(df.to_numpy())"
   ],
   "metadata": {
    "collapsed": false,
    "pycharm": {
     "name": "#%%\n"
    }
   }
  },
  {
   "cell_type": "markdown",
   "source": [
    "排序"
   ],
   "metadata": {
    "collapsed": false,
    "pycharm": {
     "name": "#%% md\n"
    }
   }
  },
  {
   "cell_type": "code",
   "execution_count": 262,
   "outputs": [
    {
     "name": "stdout",
     "output_type": "stream",
     "text": [
      "                   A         B         C         D\n",
      "2013-01-01 -1.902578 -1.049960 -0.755687 -1.261681\n",
      "2013-01-02  1.371784 -0.447580  1.146231 -1.398147\n",
      "2013-01-04 -0.538858 -0.298062  1.180761  0.905542\n",
      "2013-01-05 -1.562485 -0.034475  0.260163 -0.487132\n",
      "2013-01-03 -0.529472  0.229024 -2.385101 -0.832358\n",
      "2013-01-06 -0.045748  0.229686 -1.341456  0.424127\n"
     ]
    }
   ],
   "source": [
    "print(df.sort_values(by=\"B\"))"
   ],
   "metadata": {
    "collapsed": false,
    "pycharm": {
     "name": "#%%\n"
    }
   }
  },
  {
   "cell_type": "markdown",
   "source": [
    "快速计算指标"
   ],
   "metadata": {
    "collapsed": false,
    "pycharm": {
     "name": "#%% md\n"
    }
   }
  },
  {
   "cell_type": "code",
   "execution_count": 263,
   "outputs": [
    {
     "name": "stdout",
     "output_type": "stream",
     "text": [
      "              A         B         C         D\n",
      "count  6.000000  6.000000  6.000000  6.000000\n",
      "mean  -0.534560 -0.228561 -0.315848 -0.441608\n",
      "std    1.166296  0.486732  1.430835  0.928068\n",
      "min   -1.902578 -1.049960 -2.385101 -1.398147\n",
      "25%   -1.306578 -0.410201 -1.195014 -1.154350\n",
      "50%   -0.534165 -0.166269 -0.247762 -0.659745\n",
      "75%   -0.166679  0.163149  0.924714  0.196312\n",
      "max    1.371784  0.229686  1.180761  0.905542\n"
     ]
    }
   ],
   "source": [
    "print(df.describe())"
   ],
   "metadata": {
    "collapsed": false,
    "pycharm": {
     "name": "#%%\n"
    }
   }
  },
  {
   "cell_type": "markdown",
   "source": [
    "# 查询数据"
   ],
   "metadata": {
    "collapsed": false,
    "pycharm": {
     "name": "#%% md\n"
    }
   }
  },
  {
   "cell_type": "markdown",
   "source": [
    "按照列选择"
   ],
   "metadata": {
    "collapsed": false,
    "pycharm": {
     "name": "#%% md\n"
    }
   }
  },
  {
   "cell_type": "code",
   "execution_count": 264,
   "outputs": [
    {
     "name": "stdout",
     "output_type": "stream",
     "text": [
      "2013-01-01   -1.902578\n",
      "2013-01-02    1.371784\n",
      "2013-01-03   -0.529472\n",
      "2013-01-04   -0.538858\n",
      "2013-01-05   -1.562485\n",
      "2013-01-06   -0.045748\n",
      "Freq: D, Name: A, dtype: float64\n"
     ]
    }
   ],
   "source": [
    "print(df[\"A\"])"
   ],
   "metadata": {
    "collapsed": false,
    "pycharm": {
     "name": "#%%\n"
    }
   }
  },
  {
   "cell_type": "markdown",
   "source": [],
   "metadata": {
    "collapsed": false,
    "pycharm": {
     "name": "#%% md\n"
    }
   }
  },
  {
   "cell_type": "code",
   "execution_count": 265,
   "id": "63b22e5f",
   "metadata": {
    "pycharm": {
     "name": "#%%\n"
    }
   },
   "outputs": [
    {
     "name": "stdout",
     "output_type": "stream",
     "text": [
      "                   A         B         C         D\n",
      "2013-01-01 -1.902578 -1.049960 -0.755687 -1.261681\n",
      "2013-01-02  1.371784 -0.447580  1.146231 -1.398147\n",
      "2013-01-03 -0.529472  0.229024 -2.385101 -0.832358\n"
     ]
    }
   ],
   "source": [
    "print(df[0:3])      #按照行选择"
   ]
  },
  {
   "cell_type": "markdown",
   "source": [
    "loc函数来选择数据"
   ],
   "metadata": {
    "collapsed": false,
    "pycharm": {
     "name": "#%% md\n"
    }
   }
  },
  {
   "cell_type": "code",
   "execution_count": 266,
   "outputs": [
    {
     "name": "stdout",
     "output_type": "stream",
     "text": [
      "                   A        B         C         D\n",
      "2013-01-01 -1.902578 -1.04996 -0.755687 -1.261681\n",
      "2013-01-02  1.371784 -0.44758  1.146231 -1.398147\n",
      "                   A         B\n",
      "2013-01-01 -1.902578 -1.049960\n",
      "2013-01-02  1.371784 -0.447580\n",
      "2013-01-03 -0.529472  0.229024\n",
      "2013-01-04 -0.538858 -0.298062\n",
      "2013-01-05 -1.562485 -0.034475\n",
      "2013-01-06 -0.045748  0.229686\n"
     ]
    }
   ],
   "source": [
    "print(df.loc[dates[0:2]])       #选择2行\n",
    "print(df.loc[:, [\"A\", \"B\"]])        #所有行，ab两列"
   ],
   "metadata": {
    "collapsed": false,
    "pycharm": {
     "name": "#%%\n"
    }
   }
  },
  {
   "cell_type": "code",
   "execution_count": 267,
   "outputs": [
    {
     "name": "stdout",
     "output_type": "stream",
     "text": [
      "                   A         C\n",
      "2013-01-02  1.371784  1.146231\n",
      "2013-01-03 -0.529472 -2.385101\n",
      "2013-01-05 -1.562485  0.260163\n"
     ]
    }
   ],
   "source": [
    "print(df.iloc[[1, 2, 4], [0, 2]])       #通过位置进行选择"
   ],
   "metadata": {
    "collapsed": false,
    "pycharm": {
     "name": "#%%\n"
    }
   }
  },
  {
   "cell_type": "code",
   "execution_count": 268,
   "outputs": [
    {
     "name": "stdout",
     "output_type": "stream",
     "text": [
      "                   A        B         C         D\n",
      "2013-01-02  1.371784 -0.44758  1.146231 -1.398147\n"
     ]
    }
   ],
   "source": [
    "print(df[df[\"A\"] > 0])      #布尔进行选择"
   ],
   "metadata": {
    "collapsed": false,
    "pycharm": {
     "name": "#%%\n"
    }
   }
  },
  {
   "cell_type": "markdown",
   "source": [
    "赋值"
   ],
   "metadata": {
    "collapsed": false,
    "pycharm": {
     "name": "#%% md\n"
    }
   }
  },
  {
   "cell_type": "code",
   "execution_count": 269,
   "outputs": [
    {
     "name": "stdout",
     "output_type": "stream",
     "text": [
      "                   A         B         C  D    F\n",
      "2013-01-01  0.000000  0.000000 -0.755687  5  NaN\n",
      "2013-01-02  1.371784 -0.447580  1.146231  5  1.0\n",
      "2013-01-03 -0.529472  0.229024 -2.385101  5  2.0\n",
      "2013-01-04 -0.538858 -0.298062  1.180761  5  3.0\n",
      "2013-01-05 -1.562485 -0.034475  0.260163  5  4.0\n",
      "2013-01-06 -0.045748  0.229686 -1.341456  5  5.0\n"
     ]
    }
   ],
   "source": [
    "s1 = pd.Series([1, 2, 3, 4, 5, 6], index=pd.date_range('20130102', periods=6))\n",
    "df[\"F\"] = s1\n",
    "df.at[dates[0], \"A\"] = 0\n",
    "df.iat[0, 1] = 0\n",
    "df.loc[:, \"D\"] = np.array([5] * len(df))\n",
    "print(df)"
   ],
   "metadata": {
    "collapsed": false,
    "pycharm": {
     "name": "#%%\n"
    }
   }
  },
  {
   "cell_type": "markdown",
   "source": [
    "重建索引（reindex）可以更改、添加、删除指定轴的索引，并返回数据副本，即不更改原数据。"
   ],
   "metadata": {
    "collapsed": false,
    "pycharm": {
     "name": "#%% md\n"
    }
   }
  },
  {
   "cell_type": "code",
   "execution_count": 270,
   "outputs": [
    {
     "name": "stdout",
     "output_type": "stream",
     "text": [
      "                   A         B         C  D    F    E\n",
      "2013-01-01  0.000000  0.000000 -0.755687  5  NaN  1.0\n",
      "2013-01-02  1.371784 -0.447580  1.146231  5  1.0  1.0\n",
      "2013-01-03 -0.529472  0.229024 -2.385101  5  2.0  NaN\n",
      "2013-01-04 -0.538858 -0.298062  1.180761  5  3.0  NaN\n",
      "                   A        B         C  D    F    E\n",
      "2013-01-02  1.371784 -0.44758  1.146231  5  1.0  1.0\n",
      "                   A         B         C  D    F    E\n",
      "2013-01-01  0.000000  0.000000 -0.755687  5  5.0  1.0\n",
      "2013-01-02  1.371784 -0.447580  1.146231  5  1.0  1.0\n",
      "2013-01-03 -0.529472  0.229024 -2.385101  5  2.0  5.0\n",
      "2013-01-04 -0.538858 -0.298062  1.180761  5  3.0  5.0\n"
     ]
    }
   ],
   "source": [
    "df1 = df.reindex(index=dates[0:4], columns=list(df.columns) + ['E'])\n",
    "df1.loc[dates[0]:dates[1], 'E'] = 1\n",
    "print(df1)\n",
    "print(df1.dropna(how='any'))        #不会改变df1\n",
    "print(df1.fillna(value=5))      #填充缺失值"
   ],
   "metadata": {
    "collapsed": false,
    "pycharm": {
     "name": "#%%\n"
    }
   }
  }
 ],
 "metadata": {
  "kernelspec": {
   "display_name": "Python 3 (ipykernel)",
   "language": "python",
   "name": "python3"
  },
  "language_info": {
   "codemirror_mode": {
    "name": "ipython",
    "version": 3
   },
   "file_extension": ".py",
   "mimetype": "text/x-python",
   "name": "python",
   "nbconvert_exporter": "python",
   "pygments_lexer": "ipython3",
   "version": "3.10.6"
  }
 },
 "nbformat": 4,
 "nbformat_minor": 5
}