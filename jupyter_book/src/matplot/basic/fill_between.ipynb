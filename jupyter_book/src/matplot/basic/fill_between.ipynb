{
 "cells": [
  {
   "cell_type": "code",
   "execution_count": 5,
   "metadata": {
    "collapsed": false
   },
   "outputs": [],
   "source": [
    "%matplotlib inline"
   ]
  },
  {
   "cell_type": "markdown",
   "metadata": {},
   "source": [
    "\n",
    "# fill_between(x, y1, y2)\n",
    "\n",
    "See `~matplotlib.axes.Axes.fill_between`.\n"
   ]
  },
  {
   "cell_type": "code",
   "execution_count": 6,
   "metadata": {
    "collapsed": false
   },
   "outputs": [
    {
     "data": {
      "text/plain": "[(0.0, 8.0),\n [<matplotlib.axis.XTick at 0x1f467a183d0>,\n  <matplotlib.axis.XTick at 0x1f467a18400>,\n  <matplotlib.axis.XTick at 0x1f467a18cd0>,\n  <matplotlib.axis.XTick at 0x1f467a41e40>,\n  <matplotlib.axis.XTick at 0x1f467a41e10>,\n  <matplotlib.axis.XTick at 0x1f467a42a10>,\n  <matplotlib.axis.XTick at 0x1f467a43160>],\n (0.0, 8.0),\n [<matplotlib.axis.YTick at 0x1f467a19ed0>,\n  <matplotlib.axis.YTick at 0x1f467a19750>,\n  <matplotlib.axis.YTick at 0x1f467a18ca0>,\n  <matplotlib.axis.YTick at 0x1f467a6c070>,\n  <matplotlib.axis.YTick at 0x1f467a6c7c0>,\n  <matplotlib.axis.YTick at 0x1f467a43ca0>,\n  <matplotlib.axis.YTick at 0x1f467a42c80>]]"
     },
     "execution_count": 6,
     "metadata": {},
     "output_type": "execute_result"
    },
    {
     "data": {
      "text/plain": "<Figure size 200x200 with 1 Axes>",
      "image/png": "[encoded data removed]"
     },
     "metadata": {},
     "output_type": "display_data"
    }
   ],
   "source": [
    "import matplotlib.pyplot as plt\n",
    "import numpy as np\n",
    "\n",
    "plt.style.use('_mpl-gallery')\n",
    "\n",
    "# make data\n",
    "np.random.seed(1)\n",
    "x = np.linspace(0, 8, 16)\n",
    "y1 = 3 + 4*x/8 + np.random.uniform(0.0, 0.5, len(x))\n",
    "y2 = 1 + 2*x/8 + np.random.uniform(0.0, 0.5, len(x))\n",
    "\n",
    "# plot\n",
    "fig, ax = plt.subplots()\n",
    "\n",
    "ax.fill_between(x, y1, y2, alpha=.5, linewidth=0)\n",
    "ax.plot(x, (y1 + y2)/2, linewidth=2)\n",
    "\n",
    "ax.set(xlim=(0, 8), xticks=np.arange(1, 8),\n",
    "       ylim=(0, 8), yticks=np.arange(1, 8))\n",
    "\n",
    "# plt.show()"
   ]
  },
  {
   "cell_type": "code",
   "execution_count": 6,
   "outputs": [],
   "source": [],
   "metadata": {
    "collapsed": false
   }
  }
 ],
 "metadata": {
  "kernelspec": {
   "display_name": "Python 3",
   "language": "python",
   "name": "python3"
  },
  "language_info": {
   "codemirror_mode": {
    "name": "ipython",
    "version": 3
   },
   "file_extension": ".py",
   "mimetype": "text/x-python",
   "name": "python",
   "nbconvert_exporter": "python",
   "pygments_lexer": "ipython3",
   "version": "3.10.4"
  }
 },
 "nbformat": 4,
 "nbformat_minor": 0
}
