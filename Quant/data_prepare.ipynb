{
 "cells": [
  {
   "cell_type": "markdown",
   "id": "699f4f7c-7987-4ba6-a676-5a7e03ee89b8",
   "metadata": {},
   "source": [
    "# Unzip contest data and split the data into 70% training data and 30% validation data\n",
    "* Zansong Zhu"
   ]
  },
  {
   "cell_type": "code",
   "execution_count": 1,
   "id": "5b92788a-f1d4-45c5-acdd-b15ed71b22f5",
   "metadata": {},
   "outputs": [],
   "source": [
    "def unzip(zip_file_path):\n",
    "    import zipfile\n",
    "    extract_dir = '../qt/'\n",
    "    try:\n",
    "        # Open the ZIP file\n",
    "        with zipfile.ZipFile(zip_file_path, 'r') as zip_ref:\n",
    "            # Extract all files to the specified directory\n",
    "            zip_ref.extractall(extract_dir)\n",
    "        print(f\"Successfully extracted {zip_file_path} to {extract_dir}\")\n",
    "    except zipfile.BadZipFile:\n",
    "        print(\"The specified file is not a valid ZIP file.\")\n",
    "    except FileNotFoundError:\n",
    "        print(\"The specified ZIP file was not found.\")"
   ]
  },
  {
   "cell_type": "code",
   "execution_count": 2,
   "id": "89b2fa1c-9b3e-48a7-aac8-d69dcbd28122",
   "metadata": {},
   "outputs": [],
   "source": [
    "def unzip_all_files(my_dir):\n",
    "    from pathlib import Path\n",
    "    # Specify the directory path\n",
    "    directory = Path(my_dir)\n",
    "    \n",
    "    # List all zip files in the directory\n",
    "    zip_files = list(directory.glob('*.zip'))\n",
    "    print(zip_files)\n",
    "    # Print the paths of zip files\n",
    "    for zip_file in zip_files:\n",
    "        unzip(zip_file)"
   ]
  },
  {
   "cell_type": "code",
   "execution_count": 3,
   "id": "3af106d1-c6c7-4ea6-84f6-69a557edc7f3",
   "metadata": {},
   "outputs": [
    {
     "name": "stdout",
     "output_type": "stream",
     "text": [
      "[PosixPath('eur-2022-2024-5m.zip'), PosixPath('eur-2022-2024-1m.zip')]\n",
      "Successfully extracted eur-2022-2024-5m.zip to ./\n",
      "Successfully extracted eur-2022-2024-1m.zip to ./\n"
     ]
    }
   ],
   "source": "unzip_all_files(\"../qt/\")"
  },
  {
   "cell_type": "code",
   "execution_count": 4,
   "id": "e0462663-29e2-4ddd-a310-626144dc255e",
   "metadata": {},
   "outputs": [],
   "source": [
    "def split_dataset(csv_file):\n",
    "    import pandas as pd\n",
    "    df = pd.read_csv(csv_file)\n",
    "    print(f\"Start Date: {df['Date-Time'].min()}; End Date:{df['Date-Time'].max()}\")\n",
    "    train_size = int(0.7 * len(df))\n",
    "    train_dataset = df[:train_size]\n",
    "    test_dataset = df[train_size:]\n",
    "    train_file = \"train_\" + csv_file\n",
    "    test_file = \"test_\" + csv_file \n",
    "    train_dataset.to_csv(train_file,index=False)\n",
    "    test_dataset.to_csv(test_file,index=False)\n",
    "    print(f\"Train Dataset generated at {train_file}\")\n",
    "    print(f\"Test Dataset generated at {test_file}\")\n",
    "    "
   ]
  },
  {
   "cell_type": "code",
   "execution_count": 5,
   "id": "a9fa3ff0-e28e-4524-8697-92177cc3e91e",
   "metadata": {},
   "outputs": [
    {
     "name": "stdout",
     "output_type": "stream",
     "text": [
      "Start Date: 2022-01-02T19:30:00.000000000Z; End Date:2024-12-31T22:05:00.000000000Z\n",
      "Train Dataset generated at train_eur-2022-2024-5m.csv\n",
      "Test Dataset generated at test_eur-2022-2024-5m.csv\n"
     ]
    }
   ],
   "source": [
    "csv_file = 'eur-2022-2024-5m.csv'\n",
    "split_dataset(csv_file)"
   ]
  },
  {
   "cell_type": "code",
   "execution_count": null,
   "id": "9b4ca244-f53d-4a7a-83b6-b95f85c1703f",
   "metadata": {},
   "outputs": [],
   "source": []
  }
 ],
 "metadata": {
  "kernelspec": {
   "display_name": "Python 3",
   "language": "python",
   "name": "python3"
  },
  "language_info": {
   "codemirror_mode": {
    "name": "ipython",
    "version": 3
   },
   "file_extension": ".py",
   "mimetype": "text/x-python",
   "name": "python",
   "nbconvert_exporter": "python",
   "pygments_lexer": "ipython3",
   "version": "3.8.15"
  },
  "widgets": {
   "application/vnd.jupyter.widget-state+json": {
    "state": {},
    "version_major": 2,
    "version_minor": 0
   }
  }
 },
 "nbformat": 4,
 "nbformat_minor": 5
}
