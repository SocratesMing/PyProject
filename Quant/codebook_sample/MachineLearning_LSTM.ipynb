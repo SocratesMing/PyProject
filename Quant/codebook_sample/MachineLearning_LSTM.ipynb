{
 "cells": [
  {
   "cell_type": "markdown",
   "id": "645fc9fe-53e9-4dca-b54d-9a05f48d6d57",
   "metadata": {
    "tags": []
   },
   "source": [
    "# Workspace Codebook中用LSTM预测价格走势\n",
    "* Zansong Zhu"
   ]
  },
  {
   "cell_type": "markdown",
   "id": "c52551f4-f2e0-4232-9bfa-cb9ce4119531",
   "metadata": {},
   "source": [
    "import keras\n",
    "from keras.models import Sequential\n",
    "from keras.layers.core import Dense, Dropout, Activation\n",
    "from keras.layers.recurrent import LSTM\n",
    "from keras.models import load_model\n",
    "from keras.layers import RepeatVector\n",
    "import numpy as np\n",
    "import pandas as pd"
   ]
  },
  {
   "cell_type": "code",
   "execution_count": 2,
   "id": "0dc1386f",
   "metadata": {},
   "outputs": [],
   "source": [
    "import refinitiv.dataplatform.eikon as ek\n",
    "\n",
    "ek.set_app_key('DEFAULT_CODE_BOOK_APP_KEY')"
   ]
  },
  {
   "cell_type": "code",
   "execution_count": 3,
   "id": "c7de27cd",
   "metadata": {},
   "outputs": [],
   "source": [
    "my_eur = ek.get_timeseries('EUR=', interval='minute')"
   ]
  },
  {
   "cell_type": "code",
   "execution_count": 4,
   "id": "330f032f",
   "metadata": {},
   "outputs": [],
   "source": [
    "n = len(my_eur)\n",
    "window_size = 3\n",
    "feature_no = 3\n",
    "flat = []\n",
    "for i in range(0,n-window_size+1):\n",
    "    cur  = my_eur.iloc[i:i+window_size,[0,1,2]]\n",
    "    for j in cur.values:\n",
    "        flat+=list(j)"
   ]
  },
  {
   "cell_type": "code",
   "execution_count": 5,
   "id": "5bc7f011",
   "metadata": {},
   "outputs": [],
   "source": [
    "vmax = max(flat); vmin = min(flat)"
   ]
  },
  {
   "cell_type": "code",
   "execution_count": 6,
   "id": "6da79f01",
   "metadata": {},
   "outputs": [],
   "source": [
    "flat = list((np.array(flat) - min(flat))/(max(flat) - min(flat)))"
   ]
  },
  {
   "cell_type": "code",
   "execution_count": 7,
   "id": "ab69092d",
   "metadata": {},
   "outputs": [],
   "source": [
    "myds = np.array(flat)[np.newaxis,:]"
   ]
  },
  {
   "cell_type": "code",
   "execution_count": 8,
   "id": "ad112161",
   "metadata": {},
   "outputs": [],
   "source": [
    "myds = myds.reshape((round(myds.shape[1]/(window_size*feature_no)),window_size,feature_no))"
   ]
  },
  {
   "cell_type": "code",
   "execution_count": 9,
   "id": "8f35d17f",
   "metadata": {},
   "outputs": [],
   "source": [
    "x_train = myds[:-1];x_test = myds[-1:]"
   ]
  },
  {
   "cell_type": "code",
   "execution_count": null,
   "id": "82bf2b27",
   "metadata": {},
   "outputs": [],
   "source": []
  },
  {
   "cell_type": "code",
   "execution_count": 10,
   "id": "8c8dc763",
   "metadata": {},
   "outputs": [],
   "source": [
    "y_train = []\n",
    "for i in range(0,len(x_train)-1):\n",
    "    y_train.append(x_train[i+1][2][2])"
   ]
  },
  {
   "cell_type": "code",
   "execution_count": 11,
   "id": "d21ae0dd",
   "metadata": {},
   "outputs": [],
   "source": [
    "x_train = x_train[:len(x_train)-1]"
   ]
  },
  {
   "cell_type": "code",
   "execution_count": null,
   "id": "5946aed1",
   "metadata": {},
   "outputs": [],
   "source": []
  },
  {
   "cell_type": "code",
   "execution_count": 12,
   "id": "fc9e52e2",
   "metadata": {},
   "outputs": [
    {
     "name": "stdout",
     "output_type": "stream",
     "text": [
      "Model: \"sequential_1\"\n",
      "_________________________________________________________________\n",
      "Layer (type)                 Output Shape              Param #   \n",
      "=================================================================\n",
      "lstm_1 (LSTM)                (None, 6)                 240       \n",
      "_________________________________________________________________\n",
      "dense_1 (Dense)              (None, 1)                 7         \n",
      "=================================================================\n",
      "Total params: 247\n",
      "Trainable params: 247\n",
      "Non-trainable params: 0\n",
      "_________________________________________________________________\n"
     ]
    },
    {
     "name": "stderr",
     "output_type": "stream",
     "text": [
      "2025-04-12 07:07:07.844897: I tensorflow/core/platform/cpu_feature_guard.cc:143] Your CPU supports instructions that this TensorFlow binary was not compiled to use: AVX2 AVX512F FMA\n",
      "2025-04-12 07:07:07.849614: I tensorflow/core/platform/profile_utils/cpu_utils.cc:102] CPU Frequency: 2499995000 Hz\n",
      "2025-04-12 07:07:07.849906: I tensorflow/compiler/xla/service/service.cc:168] XLA service 0x561d039b3720 initialized for platform Host (this does not guarantee that XLA will be used). Devices:\n",
      "2025-04-12 07:07:07.849948: I tensorflow/compiler/xla/service/service.cc:176]   StreamExecutor device (0): Host, Default Version\n"
     ]
    }
   ],
   "source": [
    "model = Sequential()\n",
    "\n",
    "model.add(LSTM(6, input_shape=(x_train.shape[1], x_train.shape[2]), return_sequences=False))\n",
    "       \n",
    "model.add(Dense(1,kernel_initializer=\"uniform\",activation='linear'))\n",
    "\n",
    "adam = keras.optimizers.Adam(learning_rate=0.07,decay=0.1)\n",
    "model.compile(loss='mae', optimizer='adam')\n",
    "model.summary()"
   ]
  },
  {
   "cell_type": "code",
   "execution_count": 13,
   "id": "9054ab16",
   "metadata": {},
   "outputs": [],
   "source": [
    "history = model.fit(x_train, y_train, epochs=100, verbose=0, shuffle=False)"
   ]
  },
  {
   "cell_type": "code",
   "execution_count": null,
   "id": "a6e27dce",
   "metadata": {},
   "outputs": [],
   "source": []
  },
  {
   "cell_type": "code",
   "execution_count": 14,
   "id": "bdc2e2a7",
   "metadata": {},
   "outputs": [
    {
     "data": {
      "text/plain": [
       "<function matplotlib.pyplot.show(close=None, block=None)>"
      ]
     },
     "execution_count": 14,
     "metadata": {},
     "output_type": "execute_result"
    },
    {
     "data": {
      "image/png": "[encoded data removed]",
      "text/plain": [
       "<Figure size 432x288 with 1 Axes>"
      ]
     },
     "metadata": {
      "needs_background": "light"
     },
     "output_type": "display_data"
    }
   ],
   "source": [
    "import matplotlib.pyplot as plt\n",
    "plt.plot(history.history['loss'])\n",
    "plt.show"
   ]
  },
  {
   "cell_type": "code",
   "execution_count": null,
   "id": "c30e0211",
   "metadata": {},
   "outputs": [],
   "source": []
  },
  {
   "cell_type": "code",
   "execution_count": 15,
   "id": "08ad784a",
   "metadata": {},
   "outputs": [
    {
     "name": "stdout",
     "output_type": "stream",
     "text": [
      "train acc: 0.3648291863349068\n"
     ]
    }
   ],
   "source": [
    "pred = model.predict(x_train)\n",
    "result = pd.DataFrame(x_train[0:,-1,-1]<y_train,columns=['tlabel'])\n",
    "result['plabel'] = list(x_train[0:,-1,-1]<pred[:,-1])\n",
    "print('train acc:',result[result.tlabel==result.plabel].shape[0]/result.shape[0])"
   ]
  },
  {
   "cell_type": "code",
   "execution_count": 16,
   "id": "8582c840",
   "metadata": {},
   "outputs": [
    {
     "data": {
      "text/plain": [
       "<function matplotlib.pyplot.show(close=None, block=None)>"
      ]
     },
     "execution_count": 16,
     "metadata": {},
     "output_type": "execute_result"
    },
    {
     "data": {
      "image/png": "[encoded data removed]",
      "text/plain": [
       "<Figure size 432x288 with 1 Axes>"
      ]
     },
     "metadata": {
      "needs_background": "light"
     },
     "output_type": "display_data"
    }
   ],
   "source": [
    "plt.plot(y_train, color='green', label = \"Data\")\n",
    "plt.plot(pred, color='red', label = \"predict\")\n",
    "plt.show"
   ]
  },
  {
   "cell_type": "code",
   "execution_count": 17,
   "id": "0b4b2fa4",
   "metadata": {},
   "outputs": [],
   "source": [
    "pred_test = model.predict(x_test)"
   ]
  },
  {
   "cell_type": "code",
   "execution_count": 18,
   "id": "4e831126",
   "metadata": {},
   "outputs": [
    {
     "data": {
      "text/plain": [
       "array([[0.9031217]], dtype=float32)"
      ]
     },
     "execution_count": 18,
     "metadata": {},
     "output_type": "execute_result"
    }
   ],
   "source": [
    "pred_test"
   ]
  },
  {
   "cell_type": "code",
   "execution_count": 19,
   "id": "25d6cbf3",
   "metadata": {},
   "outputs": [],
   "source": [
    "price = vmin + pred_test*(vmax-vmin)"
   ]
  },
  {
   "cell_type": "code",
   "execution_count": 20,
   "id": "aa3ffc43",
   "metadata": {},
   "outputs": [
    {
     "data": {
      "text/plain": [
       "array([1.1365077], dtype=float32)"
      ]
     },
     "execution_count": 20,
     "metadata": {},
     "output_type": "execute_result"
    }
   ],
   "source": [
    "price[0]"
   ]
  },
  {
   "cell_type": "code",
   "execution_count": null,
   "id": "e26b84d5-3b87-4138-b067-c38bbed88847",
   "metadata": {},
   "outputs": [],
   "source": []
  }
 ],
 "metadata": {
  "kernelspec": {
   "display_name": "Python 3 (legacy)",
   "language": "python",
   "name": "python3_legacy"
  },
  "language_info": {
   "codemirror_mode": {
    "name": "ipython",
    "version": 3
   },
   "file_extension": ".py",
   "mimetype": "text/x-python",
   "name": "python",
   "nbconvert_exporter": "python",
   "pygments_lexer": "ipython3",
   "version": "3.8.15"
  },
  "widgets": {
   "application/vnd.jupyter.widget-state+json": {
    "state": {},
    "version_major": 2,
    "version_minor": 0
   }
  }
 },
 "nbformat": 4,
 "nbformat_minor": 5
}
